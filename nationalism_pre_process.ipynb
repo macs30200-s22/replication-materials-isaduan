{
  "nbformat": 4,
  "nbformat_minor": 0,
  "metadata": {
    "colab": {
      "name": "nationalism-pre-process.ipynb",
      "provenance": [],
      "collapsed_sections": []
    },
    "kernelspec": {
      "name": "python3",
      "display_name": "Python 3"
    },
    "language_info": {
      "name": "python"
    }
  },
  "cells": [
    {
      "cell_type": "code",
      "source": [
        "# pip install tika\n",
        "# pip install -U spacy\n",
        "# !python -m spacy download zh_core_web_lg\n",
        "# pip install --upgrade gensim"
      ],
      "metadata": {
        "id": "GbSrkeCqrY7b"
      },
      "execution_count": 1,
      "outputs": []
    },
    {
      "cell_type": "code",
      "source": [
        "cd "
      ],
      "metadata": {
        "colab": {
          "base_uri": "https://localhost:8080/"
        },
        "id": "0naoUNbpSURT",
        "outputId": "7fda8e5d-b5b1-4db8-d6f2-1b2a669ff856"
      },
      "execution_count": 1,
      "outputs": [
        {
          "output_type": "stream",
          "name": "stdout",
          "text": [
            "/root\n"
          ]
        }
      ]
    },
    {
      "cell_type": "code",
      "source": [
        "ls"
      ],
      "metadata": {
        "colab": {
          "base_uri": "https://localhost:8080/"
        },
        "id": "-IHBRvlBnVa6",
        "outputId": "39721e87-6e58-4596-d6c5-89992376380f"
      },
      "execution_count": 69,
      "outputs": [
        {
          "output_type": "stream",
          "name": "stdout",
          "text": [
            "2006.zip  2009.zip  2012.zip  2015.zip  2018.zip  \u001b[0m\u001b[01;34m2021\u001b[0m/\n",
            "2007.zip  2010.zip  2013.zip  2016.zip  2019.zip  2021.zip\n",
            "2008.zip  2011.zip  2014.zip  2017.zip  2020.zip  \u001b[01;34m__MACOSX\u001b[0m/\n"
          ]
        }
      ]
    },
    {
      "cell_type": "code",
      "source": [
        "# upzip each year's articles\n",
        "!unzip 2000.zip"
      ],
      "metadata": {
        "id": "ymAYP8a3DjIx"
      },
      "execution_count": null,
      "outputs": []
    },
    {
      "cell_type": "code",
      "source": [
        "import pandas as pd\n",
        "import os\n",
        "import re\n",
        "import gensim\n",
        "from gensim.models.callbacks import CallbackAny2Vec\n",
        "import matplotlib.pyplot as plt\n",
        "\n",
        "import tika\n",
        "tika.initVM()\n",
        "from tika import parser\n",
        "\n",
        "# import seaborn as sns\n",
        "# import spacy \n",
        "# nlp = spacy.load(\"zh_core_web_lg\")"
      ],
      "metadata": {
        "id": "g4cmzJ1CSo11"
      },
      "execution_count": 1,
      "outputs": []
    },
    {
      "cell_type": "code",
      "source": [
        "from spacy.lang.zh import Chinese\n",
        "\n",
        "cfg = {\"segmenter\": \"pkuseg\"}\n",
        "nlp = Chinese.from_config({\"nlp\": {\"tokenizer\": cfg}})\n",
        "nlp.tokenizer.initialize(pkuseg_model=\"mixed\")\n",
        "nlp.tokenizer.pkuseg_update_user_dict([\"中日\", \"两国\", \"日美\", \"安倍晋三\", \"靖国神社\",\n",
        "                                       \"钓鱼岛\", \"钓鱼诸岛\", \"中日关系\", \"小泉纯一郎\",\n",
        "                                       \"麻生太郎\", \"胡锦涛\", \"温家宝\", \"习近平\", \n",
        "                                       \"李克强\", \"自民党\", \"民主党\", \"朝鲜\",\n",
        "                                       \"美国\", \"东海\", \"日美关系\", \"朱镕基\", \n",
        "                                       \"侵华\", \"抗日\", \"日本\", \"中国\", \"日方\",\n",
        "                                       \"中方\"])"
      ],
      "metadata": {
        "colab": {
          "base_uri": "https://localhost:8080/"
        },
        "id": "GNPlKlTw-NQX",
        "outputId": "54ee4891-0ab6-4884-b2aa-346040912fe3"
      },
      "execution_count": 37,
      "outputs": [
        {
          "output_type": "stream",
          "name": "stderr",
          "text": [
            "WARNING: features.msgpack does not exist, try loading features.pkl\n"
          ]
        }
      ]
    },
    {
      "cell_type": "code",
      "source": [
        "def get_dataframe(folder):\n",
        "  \"\"\"\n",
        "  Extract data from a folder of articles stored in pdf files, including each\n",
        "  article's 'title', 'author', 'filepath', 'year'; also read raw texts from \n",
        "  pdf files and tokenize the raw texts.\n",
        "  \n",
        "  Input:\n",
        "    folder: the name of folder, e.g. '2020'\n",
        "  \n",
        "  Return two items, the first being a pandas dataframe with column 'title', \n",
        "  'author', 'filepath', 'year', 'raw_text', 'tokenized_text'; the second being\n",
        "  a tuple, where the first integer is total number of articles downloaded, the\n",
        "  second integer is the total number of articles successfully processed\n",
        "  \"\"\"\n",
        "  # extract article meta-data\n",
        "  paths = []\n",
        "  authors = []\n",
        "  names = []\n",
        "  for filename in os.listdir(folder):\n",
        "    if filename.endswith(\".pdf\"):\n",
        "        try:\n",
        "          names.append(re.findall(r'[\\u4e00-\\u9fff]+_', filename)[0][:-1])\n",
        "        except:\n",
        "          names.append(filename[:-4])\n",
        "        paths.append(os.path.abspath(folder) + '/' + filename)\n",
        "        try:\n",
        "          authors.append(re.findall(r'_[\\u4e00-\\u9fff]+\\.pdf', filename)[0][1:-4])\n",
        "        except:\n",
        "          authors.append('NA')\n",
        "  years = [folder for i in range(len(names))]\n",
        "  data = pd.DataFrame({'title': names, 'author': authors, 'filepath': paths, 'year': years })\n",
        "  prev_total = len(data)\n",
        "\n",
        "  # read raw texts\n",
        "  contents = []\n",
        "  for path in data.filepath:\n",
        "    parsed = parser.from_file(path)\n",
        "    contents.append(parsed['content'])\n",
        "  data['raw_text'] = contents\n",
        "\n",
        "  # drop rows that have reading errors\n",
        "  error_row_index = []\n",
        "  for i, row in data.iterrows():\n",
        "    if not row['raw_text']:\n",
        "      error_row_index.append(i)\n",
        "  data.drop(index=error_row_index, inplace=True)\n",
        "\n",
        "  # tokenize \n",
        "  data['normalized_text'] = data['raw_text'].apply(lambda x: delete_special_symbol(x))\n",
        "  data['tokenized_text'] = data['normalized_text'].apply(lambda x: tokenize(x))\n",
        "\n",
        "  # drop rows that have tokenizing errors\n",
        "  error_row_index2 = []\n",
        "  for i, row in data.iterrows():\n",
        "    invalid = 0\n",
        "    for token in row['tokenized_text'][:100]:\n",
        "      if re.findall('[^\\u4e00-\\u9fa5]+', token):\n",
        "        invalid += 1\n",
        "    if invalid>= 60 or not row['tokenized_text']:\n",
        "      error_row_index2.append(i)\n",
        "\n",
        "  data.drop(index=error_row_index2, inplace=True)\n",
        "  post_total = len(data)\n",
        "  stats = prev_total, post_total\n",
        "\n",
        "  return data, stats"
      ],
      "metadata": {
        "id": "DU0IvS0c8Yhh"
      },
      "execution_count": 48,
      "outputs": []
    },
    {
      "cell_type": "code",
      "source": [
        "symbol_RE = re.compile(r'[^\\w\\su4e00-\\u9fa5]+')\n",
        "digit_RE = re.compile(r'\\d+')\n",
        "ENG_RE = re.compile(r'[a-zA-Z]+')\n",
        "\n",
        "def delete_special_symbol(sentence):\n",
        "    \"\"\"\n",
        "    Delete special symbols, english charcters, and digits in a string using \n",
        "    regular expression.\n",
        "    \"\"\"\n",
        "    sentence = [digit_RE.sub('', s) for s in sentence]\n",
        "    sentence = [ENG_RE.sub('', s) for s in sentence]\n",
        "    \n",
        "    return ''.join(n for n in [symbol_RE.sub('', s) for s in sentence])"
      ],
      "metadata": {
        "id": "BbWserkaQ3NH"
      },
      "execution_count": 5,
      "outputs": []
    },
    {
      "cell_type": "code",
      "source": [
        "delete_special_symbol('任�表示233深刻的hfuwe反\\n省')"
      ],
      "metadata": {
        "colab": {
          "base_uri": "https://localhost:8080/",
          "height": 36
        },
        "id": "ytnt0NWxVe_F",
        "outputId": "c0060b99-60e4-4a9e-9d73-eb182046dd3f"
      },
      "execution_count": 6,
      "outputs": [
        {
          "output_type": "execute_result",
          "data": {
            "text/plain": [
              "'任表示深刻的反\\n省'"
            ],
            "application/vnd.google.colaboratory.intrinsic+json": {
              "type": "string"
            }
          },
          "metadata": {},
          "execution_count": 6
        }
      ]
    },
    {
      "cell_type": "code",
      "source": [
        "def tokenize(word_list, model=nlp):\n",
        "    \"\"\"\n",
        "    Tokenize a string using spacy tokenizing pipeline\n",
        "    \"\"\" \n",
        "    tokenized = [] \n",
        "    doc = model(word_list, disable=[\"parser\", \"ner\"])\n",
        "    for w in doc:\n",
        "        if (w.text != '\\n' and not w.is_stop and not w.is_punct and not w.like_num\n",
        "            and len(w.text.strip()) > 0):\n",
        "            tokenized.append(w.text)\n",
        "    \n",
        "    return tokenized"
      ],
      "metadata": {
        "id": "TPlK76ghtEYS"
      },
      "execution_count": 7,
      "outputs": []
    },
    {
      "cell_type": "code",
      "source": [
        "for year in range(2000, 2022):\n",
        "  if year == 2000:\n",
        "    data, stats = get_dataframe(str(year)) \n",
        "    prev_total = [stats[0]]\n",
        "    post_total = [stats[1]] \n",
        "  else:\n",
        "    new_data, stats = get_dataframe(str(year)) \n",
        "    data = pd.concat([data, new_data])\n",
        "    prev_total.append(stats[0])\n",
        "    post_total.append(stats[1])"
      ],
      "metadata": {
        "id": "M0xj-qaKFjzj"
      },
      "execution_count": 49,
      "outputs": []
    },
    {
      "cell_type": "code",
      "source": [
        "data"
      ],
      "metadata": {
        "colab": {
          "base_uri": "https://localhost:8080/",
          "height": 885
        },
        "id": "i0BeMKxTNVQr",
        "outputId": "97619684-4ab5-4746-ce25-5fbb143a883e"
      },
      "execution_count": 50,
      "outputs": [
        {
          "output_type": "execute_result",
          "data": {
            "text/plain": [
              "                     title author  \\\n",
              "0                国际学术讨论会综述     韦佳   \n",
              "1             采访朱总理访日的几点感受    王亚娟   \n",
              "2                我看中日关系(二)     NA   \n",
              "3            新时期中日关系中的几个问题    赵阶琦   \n",
              "4             对世纪之交中日关系的思考    冯昭奎   \n",
              "..                     ...    ...   \n",
              "4   世纪以来日本国家战略的演进及对中日关系的影响    刘江永   \n",
              "5                 日本对华安全战略    吴怀中   \n",
              "8            政治学会及其重要会员为中心    孙宏云   \n",
              "10                   中国与日本     武萌   \n",
              "13             中日关系下滑态势将加剧     黄贝   \n",
              "\n",
              "                                            filepath  year  \\\n",
              "0    /root/2000/关于影响中日关系发展之因素...日关系”国际学术讨论会综述_韦佳.pdf  2000   \n",
              "1         /root/2000/坦城相待,有所作为——采访朱总理访日的几点感受_王亚娟.pdf  2000   \n",
              "2                           /root/2000/我看中日关系(二).pdf  2000   \n",
              "3                   /root/2000/新时期中日关系中的几个问题_赵阶琦.pdf  2000   \n",
              "4             /root/2000/怎样做邻居——对世纪之交中日关系的思考_冯昭奎.pdf  2000   \n",
              "..                                               ...   ...   \n",
              "4        /root/2021/21世纪以来日本国家战略的演进及对中日关系的影响_刘江永.pdf  2021   \n",
              "5            /root/2021/日本对华安全战略_一项制衡议程的新近分析_吴怀中.pdf  2021   \n",
              "8   /root/2021/中国政治学界对九一八事变后...政治学会及其重要会员为中心_孙宏云.pdf  2021   \n",
              "10   /root/2021/西方学者视角下“以史为鉴，...评《中国与日本_直面历史》_武萌.pdf  2021   \n",
              "13                     /root/2021/中日关系下滑态势将加剧_黄贝.pdf  2021   \n",
              "\n",
              "                                             raw_text  \\\n",
              "0   \\n\\n\\n\\n\\n\\n\\n\\n\\n\\n\\n\\n\\n\\n\\n\\n\\n\\n\\n\\n\\n\\n\\n...   \n",
              "1   \\n\\n\\n\\n\\n\\n\\n\\n\\n\\n\\n\\n\\n\\n\\n\\n\\n\\n\\n\\n\\n\\n\\n...   \n",
              "2   \\n\\n\\n\\n\\n\\n\\n\\n\\n\\n\\n\\n\\n\\n\\n\\n\\n\\n\\n\\n\\n\\n\\n...   \n",
              "3   \\n\\n\\n\\n\\n\\n\\n\\n\\n\\n\\n\\n\\n\\n\\n\\n\\n\\n\\n\\n\\n\\n\\n...   \n",
              "4   \\n\\n\\n\\n\\n\\n\\n\\n\\n\\n\\n\\n\\n\\n\\n\\n\\n\\n\\n\\n\\n\\n\\n...   \n",
              "..                                                ...   \n",
              "4   \\n\\n\\n\\n\\n\\n\\n\\n\\n\\n\\n\\n\\n\\n\\n\\n\\n\\n\\n\\n\\n\\n\\n...   \n",
              "5   \\n\\n\\n\\n\\n\\n\\n\\n\\n\\n\\n\\n\\n\\n\\n\\n\\n\\n\\n\\n\\n\\n\\n...   \n",
              "8   \\n\\n\\n\\n\\n\\n\\n\\n\\n\\n\\n\\n\\n\\n\\n\\n\\n\\n\\n\\n\\n\\n\\n...   \n",
              "10  \\n\\n\\n\\n\\n\\n\\n\\n\\n\\n\\n\\n\\n\\n\\n\\n\\n\\n\\n\\n\\n\\n\\n...   \n",
              "13  \\n\\n\\n\\n\\n\\n\\n\\n\\n\\n\\n\\n\\n\\n\\n\\n\\n\\n\\n\\n\\n\\n\\n...   \n",
              "\n",
              "                                      normalized_text  \\\n",
              "0   \\n\\n\\n\\n\\n\\n\\n\\n\\n\\n\\n\\n\\n\\n\\n\\n\\n\\n\\n\\n\\n\\n\\n...   \n",
              "1   \\n\\n\\n\\n\\n\\n\\n\\n\\n\\n\\n\\n\\n\\n\\n\\n\\n\\n\\n\\n\\n\\n\\n...   \n",
              "2   \\n\\n\\n\\n\\n\\n\\n\\n\\n\\n\\n\\n\\n\\n\\n\\n\\n\\n\\n\\n\\n\\n\\n...   \n",
              "3   \\n\\n\\n\\n\\n\\n\\n\\n\\n\\n\\n\\n\\n\\n\\n\\n\\n\\n\\n\\n\\n\\n\\n...   \n",
              "4   \\n\\n\\n\\n\\n\\n\\n\\n\\n\\n\\n\\n\\n\\n\\n\\n\\n\\n\\n\\n\\n\\n\\n...   \n",
              "..                                                ...   \n",
              "4   \\n\\n\\n\\n\\n\\n\\n\\n\\n\\n\\n\\n\\n\\n\\n\\n\\n\\n\\n\\n\\n\\n\\n...   \n",
              "5   \\n\\n\\n\\n\\n\\n\\n\\n\\n\\n\\n\\n\\n\\n\\n\\n\\n\\n\\n\\n\\n\\n\\n...   \n",
              "8   \\n\\n\\n\\n\\n\\n\\n\\n\\n\\n\\n\\n\\n\\n\\n\\n\\n\\n\\n\\n\\n\\n\\n...   \n",
              "10  \\n\\n\\n\\n\\n\\n\\n\\n\\n\\n\\n\\n\\n\\n\\n\\n\\n\\n\\n\\n\\n\\n\\n...   \n",
              "13  \\n\\n\\n\\n\\n\\n\\n\\n\\n\\n\\n\\n\\n\\n\\n\\n\\n\\n\\n\\n\\n\\n\\n...   \n",
              "\n",
              "                                       tokenized_text  \n",
              "0   [影响, 中日, 关系, 发展, 因素, 有益, 探索, 新世纪, 中日, 关系, 国际, ...  \n",
              "1   [国际, 政治, 杀落, 塞, 澎理, 刀, 日, 分日, 日本, 正式, 访问, 刊, 记...  \n",
              "2   [国际, 政治, 娇史, 找, 考, 汉想, 本列, 第一, 期, 谈, 看中, 日关, 系...  \n",
              "3   [新, 时期, 中日, 关系, 中, 赵, 阶琦, 内容, 提要, 中日, 邦交, 正常化,...  \n",
              "4   [国际, 政治, 黔, 履样, 位, 户, 鱿, 世纪, 乡, 交中, 日, 关, 系, 思...  \n",
              "..                                                ...  \n",
              "4   [世纪, 日本, 国家, 战略, 演进, 中日, 关系, 影响, 刘江永, 内容, 提要, ...  \n",
              "5   [编者按, 世界, 经历, 百年, 未, 变局, 新冠, 肺炎, 疫情, 肆虐, 全球, 进...  \n",
              "8   [安徽, 师范, 大学, 学报, 人文, 社会, 科学版, 第卷, 第期, 年月, 学科, ...  \n",
              "10  [西方, 学者, 视角, 史, 鉴面, 未来, 中日, 关系, 评, 中国, 日本, 直面,...  \n",
              "13  [中日, 关系, 下滑, 态势, 加剧, 清华, 大学, 国际, 关系, 研究院, 中外, ...  \n",
              "\n",
              "[474 rows x 7 columns]"
            ],
            "text/html": [
              "\n",
              "  <div id=\"df-d0e84e6b-afb3-48ae-9f54-34ab99fd363a\">\n",
              "    <div class=\"colab-df-container\">\n",
              "      <div>\n",
              "<style scoped>\n",
              "    .dataframe tbody tr th:only-of-type {\n",
              "        vertical-align: middle;\n",
              "    }\n",
              "\n",
              "    .dataframe tbody tr th {\n",
              "        vertical-align: top;\n",
              "    }\n",
              "\n",
              "    .dataframe thead th {\n",
              "        text-align: right;\n",
              "    }\n",
              "</style>\n",
              "<table border=\"1\" class=\"dataframe\">\n",
              "  <thead>\n",
              "    <tr style=\"text-align: right;\">\n",
              "      <th></th>\n",
              "      <th>title</th>\n",
              "      <th>author</th>\n",
              "      <th>filepath</th>\n",
              "      <th>year</th>\n",
              "      <th>raw_text</th>\n",
              "      <th>normalized_text</th>\n",
              "      <th>tokenized_text</th>\n",
              "    </tr>\n",
              "  </thead>\n",
              "  <tbody>\n",
              "    <tr>\n",
              "      <th>0</th>\n",
              "      <td>国际学术讨论会综述</td>\n",
              "      <td>韦佳</td>\n",
              "      <td>/root/2000/关于影响中日关系发展之因素...日关系”国际学术讨论会综述_韦佳.pdf</td>\n",
              "      <td>2000</td>\n",
              "      <td>\\n\\n\\n\\n\\n\\n\\n\\n\\n\\n\\n\\n\\n\\n\\n\\n\\n\\n\\n\\n\\n\\n\\n...</td>\n",
              "      <td>\\n\\n\\n\\n\\n\\n\\n\\n\\n\\n\\n\\n\\n\\n\\n\\n\\n\\n\\n\\n\\n\\n\\n...</td>\n",
              "      <td>[影响, 中日, 关系, 发展, 因素, 有益, 探索, 新世纪, 中日, 关系, 国际, ...</td>\n",
              "    </tr>\n",
              "    <tr>\n",
              "      <th>1</th>\n",
              "      <td>采访朱总理访日的几点感受</td>\n",
              "      <td>王亚娟</td>\n",
              "      <td>/root/2000/坦城相待,有所作为——采访朱总理访日的几点感受_王亚娟.pdf</td>\n",
              "      <td>2000</td>\n",
              "      <td>\\n\\n\\n\\n\\n\\n\\n\\n\\n\\n\\n\\n\\n\\n\\n\\n\\n\\n\\n\\n\\n\\n\\n...</td>\n",
              "      <td>\\n\\n\\n\\n\\n\\n\\n\\n\\n\\n\\n\\n\\n\\n\\n\\n\\n\\n\\n\\n\\n\\n\\n...</td>\n",
              "      <td>[国际, 政治, 杀落, 塞, 澎理, 刀, 日, 分日, 日本, 正式, 访问, 刊, 记...</td>\n",
              "    </tr>\n",
              "    <tr>\n",
              "      <th>2</th>\n",
              "      <td>我看中日关系(二)</td>\n",
              "      <td>NA</td>\n",
              "      <td>/root/2000/我看中日关系(二).pdf</td>\n",
              "      <td>2000</td>\n",
              "      <td>\\n\\n\\n\\n\\n\\n\\n\\n\\n\\n\\n\\n\\n\\n\\n\\n\\n\\n\\n\\n\\n\\n\\n...</td>\n",
              "      <td>\\n\\n\\n\\n\\n\\n\\n\\n\\n\\n\\n\\n\\n\\n\\n\\n\\n\\n\\n\\n\\n\\n\\n...</td>\n",
              "      <td>[国际, 政治, 娇史, 找, 考, 汉想, 本列, 第一, 期, 谈, 看中, 日关, 系...</td>\n",
              "    </tr>\n",
              "    <tr>\n",
              "      <th>3</th>\n",
              "      <td>新时期中日关系中的几个问题</td>\n",
              "      <td>赵阶琦</td>\n",
              "      <td>/root/2000/新时期中日关系中的几个问题_赵阶琦.pdf</td>\n",
              "      <td>2000</td>\n",
              "      <td>\\n\\n\\n\\n\\n\\n\\n\\n\\n\\n\\n\\n\\n\\n\\n\\n\\n\\n\\n\\n\\n\\n\\n...</td>\n",
              "      <td>\\n\\n\\n\\n\\n\\n\\n\\n\\n\\n\\n\\n\\n\\n\\n\\n\\n\\n\\n\\n\\n\\n\\n...</td>\n",
              "      <td>[新, 时期, 中日, 关系, 中, 赵, 阶琦, 内容, 提要, 中日, 邦交, 正常化,...</td>\n",
              "    </tr>\n",
              "    <tr>\n",
              "      <th>4</th>\n",
              "      <td>对世纪之交中日关系的思考</td>\n",
              "      <td>冯昭奎</td>\n",
              "      <td>/root/2000/怎样做邻居——对世纪之交中日关系的思考_冯昭奎.pdf</td>\n",
              "      <td>2000</td>\n",
              "      <td>\\n\\n\\n\\n\\n\\n\\n\\n\\n\\n\\n\\n\\n\\n\\n\\n\\n\\n\\n\\n\\n\\n\\n...</td>\n",
              "      <td>\\n\\n\\n\\n\\n\\n\\n\\n\\n\\n\\n\\n\\n\\n\\n\\n\\n\\n\\n\\n\\n\\n\\n...</td>\n",
              "      <td>[国际, 政治, 黔, 履样, 位, 户, 鱿, 世纪, 乡, 交中, 日, 关, 系, 思...</td>\n",
              "    </tr>\n",
              "    <tr>\n",
              "      <th>...</th>\n",
              "      <td>...</td>\n",
              "      <td>...</td>\n",
              "      <td>...</td>\n",
              "      <td>...</td>\n",
              "      <td>...</td>\n",
              "      <td>...</td>\n",
              "      <td>...</td>\n",
              "    </tr>\n",
              "    <tr>\n",
              "      <th>4</th>\n",
              "      <td>世纪以来日本国家战略的演进及对中日关系的影响</td>\n",
              "      <td>刘江永</td>\n",
              "      <td>/root/2021/21世纪以来日本国家战略的演进及对中日关系的影响_刘江永.pdf</td>\n",
              "      <td>2021</td>\n",
              "      <td>\\n\\n\\n\\n\\n\\n\\n\\n\\n\\n\\n\\n\\n\\n\\n\\n\\n\\n\\n\\n\\n\\n\\n...</td>\n",
              "      <td>\\n\\n\\n\\n\\n\\n\\n\\n\\n\\n\\n\\n\\n\\n\\n\\n\\n\\n\\n\\n\\n\\n\\n...</td>\n",
              "      <td>[世纪, 日本, 国家, 战略, 演进, 中日, 关系, 影响, 刘江永, 内容, 提要, ...</td>\n",
              "    </tr>\n",
              "    <tr>\n",
              "      <th>5</th>\n",
              "      <td>日本对华安全战略</td>\n",
              "      <td>吴怀中</td>\n",
              "      <td>/root/2021/日本对华安全战略_一项制衡议程的新近分析_吴怀中.pdf</td>\n",
              "      <td>2021</td>\n",
              "      <td>\\n\\n\\n\\n\\n\\n\\n\\n\\n\\n\\n\\n\\n\\n\\n\\n\\n\\n\\n\\n\\n\\n\\n...</td>\n",
              "      <td>\\n\\n\\n\\n\\n\\n\\n\\n\\n\\n\\n\\n\\n\\n\\n\\n\\n\\n\\n\\n\\n\\n\\n...</td>\n",
              "      <td>[编者按, 世界, 经历, 百年, 未, 变局, 新冠, 肺炎, 疫情, 肆虐, 全球, 进...</td>\n",
              "    </tr>\n",
              "    <tr>\n",
              "      <th>8</th>\n",
              "      <td>政治学会及其重要会员为中心</td>\n",
              "      <td>孙宏云</td>\n",
              "      <td>/root/2021/中国政治学界对九一八事变后...政治学会及其重要会员为中心_孙宏云.pdf</td>\n",
              "      <td>2021</td>\n",
              "      <td>\\n\\n\\n\\n\\n\\n\\n\\n\\n\\n\\n\\n\\n\\n\\n\\n\\n\\n\\n\\n\\n\\n\\n...</td>\n",
              "      <td>\\n\\n\\n\\n\\n\\n\\n\\n\\n\\n\\n\\n\\n\\n\\n\\n\\n\\n\\n\\n\\n\\n\\n...</td>\n",
              "      <td>[安徽, 师范, 大学, 学报, 人文, 社会, 科学版, 第卷, 第期, 年月, 学科, ...</td>\n",
              "    </tr>\n",
              "    <tr>\n",
              "      <th>10</th>\n",
              "      <td>中国与日本</td>\n",
              "      <td>武萌</td>\n",
              "      <td>/root/2021/西方学者视角下“以史为鉴，...评《中国与日本_直面历史》_武萌.pdf</td>\n",
              "      <td>2021</td>\n",
              "      <td>\\n\\n\\n\\n\\n\\n\\n\\n\\n\\n\\n\\n\\n\\n\\n\\n\\n\\n\\n\\n\\n\\n\\n...</td>\n",
              "      <td>\\n\\n\\n\\n\\n\\n\\n\\n\\n\\n\\n\\n\\n\\n\\n\\n\\n\\n\\n\\n\\n\\n\\n...</td>\n",
              "      <td>[西方, 学者, 视角, 史, 鉴面, 未来, 中日, 关系, 评, 中国, 日本, 直面,...</td>\n",
              "    </tr>\n",
              "    <tr>\n",
              "      <th>13</th>\n",
              "      <td>中日关系下滑态势将加剧</td>\n",
              "      <td>黄贝</td>\n",
              "      <td>/root/2021/中日关系下滑态势将加剧_黄贝.pdf</td>\n",
              "      <td>2021</td>\n",
              "      <td>\\n\\n\\n\\n\\n\\n\\n\\n\\n\\n\\n\\n\\n\\n\\n\\n\\n\\n\\n\\n\\n\\n\\n...</td>\n",
              "      <td>\\n\\n\\n\\n\\n\\n\\n\\n\\n\\n\\n\\n\\n\\n\\n\\n\\n\\n\\n\\n\\n\\n\\n...</td>\n",
              "      <td>[中日, 关系, 下滑, 态势, 加剧, 清华, 大学, 国际, 关系, 研究院, 中外, ...</td>\n",
              "    </tr>\n",
              "  </tbody>\n",
              "</table>\n",
              "<p>474 rows × 7 columns</p>\n",
              "</div>\n",
              "      <button class=\"colab-df-convert\" onclick=\"convertToInteractive('df-d0e84e6b-afb3-48ae-9f54-34ab99fd363a')\"\n",
              "              title=\"Convert this dataframe to an interactive table.\"\n",
              "              style=\"display:none;\">\n",
              "        \n",
              "  <svg xmlns=\"http://www.w3.org/2000/svg\" height=\"24px\"viewBox=\"0 0 24 24\"\n",
              "       width=\"24px\">\n",
              "    <path d=\"M0 0h24v24H0V0z\" fill=\"none\"/>\n",
              "    <path d=\"M18.56 5.44l.94 2.06.94-2.06 2.06-.94-2.06-.94-.94-2.06-.94 2.06-2.06.94zm-11 1L8.5 8.5l.94-2.06 2.06-.94-2.06-.94L8.5 2.5l-.94 2.06-2.06.94zm10 10l.94 2.06.94-2.06 2.06-.94-2.06-.94-.94-2.06-.94 2.06-2.06.94z\"/><path d=\"M17.41 7.96l-1.37-1.37c-.4-.4-.92-.59-1.43-.59-.52 0-1.04.2-1.43.59L10.3 9.45l-7.72 7.72c-.78.78-.78 2.05 0 2.83L4 21.41c.39.39.9.59 1.41.59.51 0 1.02-.2 1.41-.59l7.78-7.78 2.81-2.81c.8-.78.8-2.07 0-2.86zM5.41 20L4 18.59l7.72-7.72 1.47 1.35L5.41 20z\"/>\n",
              "  </svg>\n",
              "      </button>\n",
              "      \n",
              "  <style>\n",
              "    .colab-df-container {\n",
              "      display:flex;\n",
              "      flex-wrap:wrap;\n",
              "      gap: 12px;\n",
              "    }\n",
              "\n",
              "    .colab-df-convert {\n",
              "      background-color: #E8F0FE;\n",
              "      border: none;\n",
              "      border-radius: 50%;\n",
              "      cursor: pointer;\n",
              "      display: none;\n",
              "      fill: #1967D2;\n",
              "      height: 32px;\n",
              "      padding: 0 0 0 0;\n",
              "      width: 32px;\n",
              "    }\n",
              "\n",
              "    .colab-df-convert:hover {\n",
              "      background-color: #E2EBFA;\n",
              "      box-shadow: 0px 1px 2px rgba(60, 64, 67, 0.3), 0px 1px 3px 1px rgba(60, 64, 67, 0.15);\n",
              "      fill: #174EA6;\n",
              "    }\n",
              "\n",
              "    [theme=dark] .colab-df-convert {\n",
              "      background-color: #3B4455;\n",
              "      fill: #D2E3FC;\n",
              "    }\n",
              "\n",
              "    [theme=dark] .colab-df-convert:hover {\n",
              "      background-color: #434B5C;\n",
              "      box-shadow: 0px 1px 3px 1px rgba(0, 0, 0, 0.15);\n",
              "      filter: drop-shadow(0px 1px 2px rgba(0, 0, 0, 0.3));\n",
              "      fill: #FFFFFF;\n",
              "    }\n",
              "  </style>\n",
              "\n",
              "      <script>\n",
              "        const buttonEl =\n",
              "          document.querySelector('#df-d0e84e6b-afb3-48ae-9f54-34ab99fd363a button.colab-df-convert');\n",
              "        buttonEl.style.display =\n",
              "          google.colab.kernel.accessAllowed ? 'block' : 'none';\n",
              "\n",
              "        async function convertToInteractive(key) {\n",
              "          const element = document.querySelector('#df-d0e84e6b-afb3-48ae-9f54-34ab99fd363a');\n",
              "          const dataTable =\n",
              "            await google.colab.kernel.invokeFunction('convertToInteractive',\n",
              "                                                     [key], {});\n",
              "          if (!dataTable) return;\n",
              "\n",
              "          const docLinkHtml = 'Like what you see? Visit the ' +\n",
              "            '<a target=\"_blank\" href=https://colab.research.google.com/notebooks/data_table.ipynb>data table notebook</a>'\n",
              "            + ' to learn more about interactive tables.';\n",
              "          element.innerHTML = '';\n",
              "          dataTable['output_type'] = 'display_data';\n",
              "          await google.colab.output.renderOutput(dataTable, element);\n",
              "          const docLink = document.createElement('div');\n",
              "          docLink.innerHTML = docLinkHtml;\n",
              "          element.appendChild(docLink);\n",
              "        }\n",
              "      </script>\n",
              "    </div>\n",
              "  </div>\n",
              "  "
            ]
          },
          "metadata": {},
          "execution_count": 50
        }
      ]
    },
    {
      "cell_type": "code",
      "source": [
        "data['length'] = data['tokenized_text'].apply(lambda x: len(x))"
      ],
      "metadata": {
        "id": "BO3GYIC4boml"
      },
      "execution_count": 51,
      "outputs": []
    },
    {
      "cell_type": "code",
      "source": [
        "data.groupby('year')['length'].mean()"
      ],
      "metadata": {
        "colab": {
          "base_uri": "https://localhost:8080/"
        },
        "id": "hkvFKyZ3kzMP",
        "outputId": "404e1df5-214a-4b5b-a2ea-ad3ae5625a80"
      },
      "execution_count": 52,
      "outputs": [
        {
          "output_type": "execute_result",
          "data": {
            "text/plain": [
              "year\n",
              "2000    1715.954545\n",
              "2001    1951.583333\n",
              "2002    1869.166667\n",
              "2003    2288.933333\n",
              "2004    3272.777778\n",
              "2005    2229.250000\n",
              "2006    2121.413043\n",
              "2007    2429.593750\n",
              "2008    2238.818182\n",
              "2009    2475.409091\n",
              "2010    2963.823529\n",
              "2011    2409.923077\n",
              "2012    2906.190476\n",
              "2013    3486.416667\n",
              "2014    3344.714286\n",
              "2015    4408.941176\n",
              "2016    5026.571429\n",
              "2017    4484.750000\n",
              "2018    3558.090909\n",
              "2019    3216.555556\n",
              "2020    4496.000000\n",
              "2021    4343.142857\n",
              "Name: length, dtype: float64"
            ]
          },
          "metadata": {},
          "execution_count": 52
        }
      ]
    },
    {
      "cell_type": "code",
      "source": [
        "data.groupby('year')['length'].sum()"
      ],
      "metadata": {
        "colab": {
          "base_uri": "https://localhost:8080/"
        },
        "id": "6jj8Un3OhXTi",
        "outputId": "3010f9c5-5a99-485f-8636-8a844d7a7752"
      },
      "execution_count": 56,
      "outputs": [
        {
          "output_type": "execute_result",
          "data": {
            "text/plain": [
              "year\n",
              "2000     37751\n",
              "2001     23419\n",
              "2002     44860\n",
              "2003     68668\n",
              "2004     58910\n",
              "2005     89170\n",
              "2006     97585\n",
              "2007     77747\n",
              "2008     73881\n",
              "2009     54459\n",
              "2010     50385\n",
              "2011     31329\n",
              "2012     61030\n",
              "2013     41837\n",
              "2014    117065\n",
              "2015     74952\n",
              "2016     70372\n",
              "2017     53817\n",
              "2018     78278\n",
              "2019     57898\n",
              "2020     31472\n",
              "2021     30402\n",
              "Name: length, dtype: int64"
            ]
          },
          "metadata": {},
          "execution_count": 56
        }
      ]
    },
    {
      "cell_type": "code",
      "source": [
        "data.groupby('year')['length'].sum().plot();"
      ],
      "metadata": {
        "colab": {
          "base_uri": "https://localhost:8080/",
          "height": 280
        },
        "id": "Gx9gsBvAd-d5",
        "outputId": "96056fc2-3d87-45e8-dacb-101e438c28a7"
      },
      "execution_count": 54,
      "outputs": [
        {
          "output_type": "display_data",
          "data": {
            "text/plain": [
              "<Figure size 432x288 with 1 Axes>"
            ],
            "image/png": "[encoded data removed]"
          },
          "metadata": {
            "needs_background": "light"
          }
        }
      ]
    },
    {
      "cell_type": "code",
      "source": [
        "missing_ratio = pd.DataFrame({'prev': prev_total, 'post': post_total, 'year': range(2000,2022)})\n",
        "missing_ratio.plot(x='year', y=['prev', 'post'], kind='bar');"
      ],
      "metadata": {
        "colab": {
          "base_uri": "https://localhost:8080/",
          "height": 305
        },
        "id": "iUy2Coo1eGg3",
        "outputId": "467a7e67-931a-4bd0-8c8d-422bbcd93f65"
      },
      "execution_count": 73,
      "outputs": [
        {
          "output_type": "display_data",
          "data": {
            "text/plain": [
              "<Figure size 432x288 with 1 Axes>"
            ],
            "image/png": "[encoded data removed]"
          },
          "metadata": {}
        }
      ]
    },
    {
      "cell_type": "code",
      "source": [
        "data.reset_index(drop=True, inplace=True)"
      ],
      "metadata": {
        "id": "eoJjhgqDrvef"
      },
      "execution_count": 95,
      "outputs": []
    },
    {
      "cell_type": "code",
      "source": [
        "data.to_csv('text_data.csv')"
      ],
      "metadata": {
        "id": "d4LTRlRB33Us"
      },
      "execution_count": 74,
      "outputs": []
    },
    {
      "cell_type": "code",
      "source": [
        "data = pd.read_csv('text_data.csv', index_col=[0])"
      ],
      "metadata": {
        "id": "r6uQPkkV4KLS"
      },
      "execution_count": 12,
      "outputs": []
    },
    {
      "cell_type": "code",
      "source": [
        "data.head()"
      ],
      "metadata": {
        "colab": {
          "base_uri": "https://localhost:8080/",
          "height": 615
        },
        "id": "J0U5jCyN4YzM",
        "outputId": "0cad44a8-9e65-45a1-ba78-f94bc3c79ef9"
      },
      "execution_count": 14,
      "outputs": [
        {
          "output_type": "execute_result",
          "data": {
            "text/plain": [
              "           title author                                         filepath  \\\n",
              "0      国际学术讨论会综述     韦佳  /root/2000/关于影响中日关系发展之因素...日关系”国际学术讨论会综述_韦佳.pdf   \n",
              "1   采访朱总理访日的几点感受    王亚娟       /root/2000/坦城相待,有所作为——采访朱总理访日的几点感受_王亚娟.pdf   \n",
              "2      我看中日关系(二)    NaN                         /root/2000/我看中日关系(二).pdf   \n",
              "3  新时期中日关系中的几个问题    赵阶琦                 /root/2000/新时期中日关系中的几个问题_赵阶琦.pdf   \n",
              "4   对世纪之交中日关系的思考    冯昭奎           /root/2000/怎样做邻居——对世纪之交中日关系的思考_冯昭奎.pdf   \n",
              "\n",
              "   year                                           raw_text  \\\n",
              "0  2000  \\n\\n\\n\\n\\n\\n\\n\\n\\n\\n\\n\\n\\n\\n\\n\\n\\n\\n\\n\\n\\n\\n\\n...   \n",
              "1  2000  \\n\\n\\n\\n\\n\\n\\n\\n\\n\\n\\n\\n\\n\\n\\n\\n\\n\\n\\n\\n\\n\\n\\n...   \n",
              "2  2000  \\n\\n\\n\\n\\n\\n\\n\\n\\n\\n\\n\\n\\n\\n\\n\\n\\n\\n\\n\\n\\n\\n\\n...   \n",
              "3  2000  \\n\\n\\n\\n\\n\\n\\n\\n\\n\\n\\n\\n\\n\\n\\n\\n\\n\\n\\n\\n\\n\\n\\n...   \n",
              "4  2000  \\n\\n\\n\\n\\n\\n\\n\\n\\n\\n\\n\\n\\n\\n\\n\\n\\n\\n\\n\\n\\n\\n\\n...   \n",
              "\n",
              "                                     normalized_text  \\\n",
              "0  \\n\\n\\n\\n\\n\\n\\n\\n\\n\\n\\n\\n\\n\\n\\n\\n\\n\\n\\n\\n\\n\\n\\n...   \n",
              "1  \\n\\n\\n\\n\\n\\n\\n\\n\\n\\n\\n\\n\\n\\n\\n\\n\\n\\n\\n\\n\\n\\n\\n...   \n",
              "2  \\n\\n\\n\\n\\n\\n\\n\\n\\n\\n\\n\\n\\n\\n\\n\\n\\n\\n\\n\\n\\n\\n\\n...   \n",
              "3  \\n\\n\\n\\n\\n\\n\\n\\n\\n\\n\\n\\n\\n\\n\\n\\n\\n\\n\\n\\n\\n\\n\\n...   \n",
              "4  \\n\\n\\n\\n\\n\\n\\n\\n\\n\\n\\n\\n\\n\\n\\n\\n\\n\\n\\n\\n\\n\\n\\n...   \n",
              "\n",
              "                                      tokenized_text  length  \\\n",
              "0  ['影响', '中日', '关系', '发展', '因素', '有益', '探索', '新世...    1124   \n",
              "1  ['国际', '政治', '杀落', '塞', '澎理', '刀', '日', '分日', ...    1004   \n",
              "2  ['国际', '政治', '娇史', '找', '考', '汉想', '本列', '第一',...    1850   \n",
              "3  ['新', '时期', '中日', '关系', '中', '赵', '阶琦', '内容', ...    2038   \n",
              "4  ['国际', '政治', '黔', '履样', '位', '户', '鱿', '世纪', '...    1275   \n",
              "\n",
              "                                         tagged_docs  \n",
              "0  TaggedDocument(['影响', '中日', '关系', '发展', '因素', ...  \n",
              "1  TaggedDocument(['国际', '政治', '杀落', '塞', '澎理', '...  \n",
              "2  TaggedDocument(['国际', '政治', '娇史', '找', '考', '汉...  \n",
              "3  TaggedDocument(['新', '时期', '中日', '关系', '中', '赵...  \n",
              "4  TaggedDocument(['国际', '政治', '黔', '履样', '位', '户...  "
            ],
            "text/html": [
              "\n",
              "  <div id=\"df-4235da1d-5908-4f04-9f47-cd95cd1a0fd1\">\n",
              "    <div class=\"colab-df-container\">\n",
              "      <div>\n",
              "<style scoped>\n",
              "    .dataframe tbody tr th:only-of-type {\n",
              "        vertical-align: middle;\n",
              "    }\n",
              "\n",
              "    .dataframe tbody tr th {\n",
              "        vertical-align: top;\n",
              "    }\n",
              "\n",
              "    .dataframe thead th {\n",
              "        text-align: right;\n",
              "    }\n",
              "</style>\n",
              "<table border=\"1\" class=\"dataframe\">\n",
              "  <thead>\n",
              "    <tr style=\"text-align: right;\">\n",
              "      <th></th>\n",
              "      <th>title</th>\n",
              "      <th>author</th>\n",
              "      <th>filepath</th>\n",
              "      <th>year</th>\n",
              "      <th>raw_text</th>\n",
              "      <th>normalized_text</th>\n",
              "      <th>tokenized_text</th>\n",
              "      <th>length</th>\n",
              "      <th>tagged_docs</th>\n",
              "    </tr>\n",
              "  </thead>\n",
              "  <tbody>\n",
              "    <tr>\n",
              "      <th>0</th>\n",
              "      <td>国际学术讨论会综述</td>\n",
              "      <td>韦佳</td>\n",
              "      <td>/root/2000/关于影响中日关系发展之因素...日关系”国际学术讨论会综述_韦佳.pdf</td>\n",
              "      <td>2000</td>\n",
              "      <td>\\n\\n\\n\\n\\n\\n\\n\\n\\n\\n\\n\\n\\n\\n\\n\\n\\n\\n\\n\\n\\n\\n\\n...</td>\n",
              "      <td>\\n\\n\\n\\n\\n\\n\\n\\n\\n\\n\\n\\n\\n\\n\\n\\n\\n\\n\\n\\n\\n\\n\\n...</td>\n",
              "      <td>['影响', '中日', '关系', '发展', '因素', '有益', '探索', '新世...</td>\n",
              "      <td>1124</td>\n",
              "      <td>TaggedDocument(['影响', '中日', '关系', '发展', '因素', ...</td>\n",
              "    </tr>\n",
              "    <tr>\n",
              "      <th>1</th>\n",
              "      <td>采访朱总理访日的几点感受</td>\n",
              "      <td>王亚娟</td>\n",
              "      <td>/root/2000/坦城相待,有所作为——采访朱总理访日的几点感受_王亚娟.pdf</td>\n",
              "      <td>2000</td>\n",
              "      <td>\\n\\n\\n\\n\\n\\n\\n\\n\\n\\n\\n\\n\\n\\n\\n\\n\\n\\n\\n\\n\\n\\n\\n...</td>\n",
              "      <td>\\n\\n\\n\\n\\n\\n\\n\\n\\n\\n\\n\\n\\n\\n\\n\\n\\n\\n\\n\\n\\n\\n\\n...</td>\n",
              "      <td>['国际', '政治', '杀落', '塞', '澎理', '刀', '日', '分日', ...</td>\n",
              "      <td>1004</td>\n",
              "      <td>TaggedDocument(['国际', '政治', '杀落', '塞', '澎理', '...</td>\n",
              "    </tr>\n",
              "    <tr>\n",
              "      <th>2</th>\n",
              "      <td>我看中日关系(二)</td>\n",
              "      <td>NaN</td>\n",
              "      <td>/root/2000/我看中日关系(二).pdf</td>\n",
              "      <td>2000</td>\n",
              "      <td>\\n\\n\\n\\n\\n\\n\\n\\n\\n\\n\\n\\n\\n\\n\\n\\n\\n\\n\\n\\n\\n\\n\\n...</td>\n",
              "      <td>\\n\\n\\n\\n\\n\\n\\n\\n\\n\\n\\n\\n\\n\\n\\n\\n\\n\\n\\n\\n\\n\\n\\n...</td>\n",
              "      <td>['国际', '政治', '娇史', '找', '考', '汉想', '本列', '第一',...</td>\n",
              "      <td>1850</td>\n",
              "      <td>TaggedDocument(['国际', '政治', '娇史', '找', '考', '汉...</td>\n",
              "    </tr>\n",
              "    <tr>\n",
              "      <th>3</th>\n",
              "      <td>新时期中日关系中的几个问题</td>\n",
              "      <td>赵阶琦</td>\n",
              "      <td>/root/2000/新时期中日关系中的几个问题_赵阶琦.pdf</td>\n",
              "      <td>2000</td>\n",
              "      <td>\\n\\n\\n\\n\\n\\n\\n\\n\\n\\n\\n\\n\\n\\n\\n\\n\\n\\n\\n\\n\\n\\n\\n...</td>\n",
              "      <td>\\n\\n\\n\\n\\n\\n\\n\\n\\n\\n\\n\\n\\n\\n\\n\\n\\n\\n\\n\\n\\n\\n\\n...</td>\n",
              "      <td>['新', '时期', '中日', '关系', '中', '赵', '阶琦', '内容', ...</td>\n",
              "      <td>2038</td>\n",
              "      <td>TaggedDocument(['新', '时期', '中日', '关系', '中', '赵...</td>\n",
              "    </tr>\n",
              "    <tr>\n",
              "      <th>4</th>\n",
              "      <td>对世纪之交中日关系的思考</td>\n",
              "      <td>冯昭奎</td>\n",
              "      <td>/root/2000/怎样做邻居——对世纪之交中日关系的思考_冯昭奎.pdf</td>\n",
              "      <td>2000</td>\n",
              "      <td>\\n\\n\\n\\n\\n\\n\\n\\n\\n\\n\\n\\n\\n\\n\\n\\n\\n\\n\\n\\n\\n\\n\\n...</td>\n",
              "      <td>\\n\\n\\n\\n\\n\\n\\n\\n\\n\\n\\n\\n\\n\\n\\n\\n\\n\\n\\n\\n\\n\\n\\n...</td>\n",
              "      <td>['国际', '政治', '黔', '履样', '位', '户', '鱿', '世纪', '...</td>\n",
              "      <td>1275</td>\n",
              "      <td>TaggedDocument(['国际', '政治', '黔', '履样', '位', '户...</td>\n",
              "    </tr>\n",
              "  </tbody>\n",
              "</table>\n",
              "</div>\n",
              "      <button class=\"colab-df-convert\" onclick=\"convertToInteractive('df-4235da1d-5908-4f04-9f47-cd95cd1a0fd1')\"\n",
              "              title=\"Convert this dataframe to an interactive table.\"\n",
              "              style=\"display:none;\">\n",
              "        \n",
              "  <svg xmlns=\"http://www.w3.org/2000/svg\" height=\"24px\"viewBox=\"0 0 24 24\"\n",
              "       width=\"24px\">\n",
              "    <path d=\"M0 0h24v24H0V0z\" fill=\"none\"/>\n",
              "    <path d=\"M18.56 5.44l.94 2.06.94-2.06 2.06-.94-2.06-.94-.94-2.06-.94 2.06-2.06.94zm-11 1L8.5 8.5l.94-2.06 2.06-.94-2.06-.94L8.5 2.5l-.94 2.06-2.06.94zm10 10l.94 2.06.94-2.06 2.06-.94-2.06-.94-.94-2.06-.94 2.06-2.06.94z\"/><path d=\"M17.41 7.96l-1.37-1.37c-.4-.4-.92-.59-1.43-.59-.52 0-1.04.2-1.43.59L10.3 9.45l-7.72 7.72c-.78.78-.78 2.05 0 2.83L4 21.41c.39.39.9.59 1.41.59.51 0 1.02-.2 1.41-.59l7.78-7.78 2.81-2.81c.8-.78.8-2.07 0-2.86zM5.41 20L4 18.59l7.72-7.72 1.47 1.35L5.41 20z\"/>\n",
              "  </svg>\n",
              "      </button>\n",
              "      \n",
              "  <style>\n",
              "    .colab-df-container {\n",
              "      display:flex;\n",
              "      flex-wrap:wrap;\n",
              "      gap: 12px;\n",
              "    }\n",
              "\n",
              "    .colab-df-convert {\n",
              "      background-color: #E8F0FE;\n",
              "      border: none;\n",
              "      border-radius: 50%;\n",
              "      cursor: pointer;\n",
              "      display: none;\n",
              "      fill: #1967D2;\n",
              "      height: 32px;\n",
              "      padding: 0 0 0 0;\n",
              "      width: 32px;\n",
              "    }\n",
              "\n",
              "    .colab-df-convert:hover {\n",
              "      background-color: #E2EBFA;\n",
              "      box-shadow: 0px 1px 2px rgba(60, 64, 67, 0.3), 0px 1px 3px 1px rgba(60, 64, 67, 0.15);\n",
              "      fill: #174EA6;\n",
              "    }\n",
              "\n",
              "    [theme=dark] .colab-df-convert {\n",
              "      background-color: #3B4455;\n",
              "      fill: #D2E3FC;\n",
              "    }\n",
              "\n",
              "    [theme=dark] .colab-df-convert:hover {\n",
              "      background-color: #434B5C;\n",
              "      box-shadow: 0px 1px 3px 1px rgba(0, 0, 0, 0.15);\n",
              "      filter: drop-shadow(0px 1px 2px rgba(0, 0, 0, 0.3));\n",
              "      fill: #FFFFFF;\n",
              "    }\n",
              "  </style>\n",
              "\n",
              "      <script>\n",
              "        const buttonEl =\n",
              "          document.querySelector('#df-4235da1d-5908-4f04-9f47-cd95cd1a0fd1 button.colab-df-convert');\n",
              "        buttonEl.style.display =\n",
              "          google.colab.kernel.accessAllowed ? 'block' : 'none';\n",
              "\n",
              "        async function convertToInteractive(key) {\n",
              "          const element = document.querySelector('#df-4235da1d-5908-4f04-9f47-cd95cd1a0fd1');\n",
              "          const dataTable =\n",
              "            await google.colab.kernel.invokeFunction('convertToInteractive',\n",
              "                                                     [key], {});\n",
              "          if (!dataTable) return;\n",
              "\n",
              "          const docLinkHtml = 'Like what you see? Visit the ' +\n",
              "            '<a target=\"_blank\" href=https://colab.research.google.com/notebooks/data_table.ipynb>data table notebook</a>'\n",
              "            + ' to learn more about interactive tables.';\n",
              "          element.innerHTML = '';\n",
              "          dataTable['output_type'] = 'display_data';\n",
              "          await google.colab.output.renderOutput(dataTable, element);\n",
              "          const docLink = document.createElement('div');\n",
              "          docLink.innerHTML = docLinkHtml;\n",
              "          element.appendChild(docLink);\n",
              "        }\n",
              "      </script>\n",
              "    </div>\n",
              "  </div>\n",
              "  "
            ]
          },
          "metadata": {},
          "execution_count": 14
        }
      ]
    },
    {
      "cell_type": "code",
      "source": [
        "keywords = ['中日', '国际', '政治', '贸易', '历史', '地缘', '安全', '合作', '文化', \n",
        "            '挑战', '经济', '困境', '机遇', '日本', '中国', '美国', '台湾', '前景', \n",
        "            '新', '发展', '冲突', '争议']\n"
      ],
      "metadata": {
        "id": "iQbIL6OoZ-QT"
      },
      "execution_count": 15,
      "outputs": []
    },
    {
      "cell_type": "code",
      "source": [
        "taggedDocs = []\n",
        "for index, row in data.iterrows():\n",
        "    docKeywords = [s for s in keywords if s in row['tokenized_text']]\n",
        "    docKeywords.append(str(index))\n",
        "    taggedDocs.append(gensim.models.doc2vec.TaggedDocument(words=row['tokenized_text'], \n",
        "                                                           tags=docKeywords))\n",
        "data['tagged_docs'] = taggedDocs"
      ],
      "metadata": {
        "id": "BuEntjBnnkuJ"
      },
      "execution_count": 95,
      "outputs": []
    },
    {
      "cell_type": "code",
      "source": [
        "data['tagged_docs'][1]"
      ],
      "metadata": {
        "id": "gm_KawgrWzXb"
      },
      "execution_count": null,
      "outputs": []
    },
    {
      "cell_type": "code",
      "source": [
        "class callback(CallbackAny2Vec):\n",
        "    '''Callback to print loss after each epoch.'''\n",
        "\n",
        "    def __init__(self):\n",
        "        self.epoch = 0\n",
        "        self.loss_to_be_subed = 0\n",
        "\n",
        "    def on_epoch_end(self, model):\n",
        "        loss = model.get_latest_training_loss()\n",
        "        loss_now = loss - self.loss_to_be_subed\n",
        "        self.loss_to_be_subed = loss\n",
        "        print('Loss after epoch {}: {}'.format(self.epoch, loss_now))\n",
        "        self.epoch += 1"
      ],
      "metadata": {
        "id": "Xr4Gs7xUzLGO"
      },
      "execution_count": 76,
      "outputs": []
    },
    {
      "cell_type": "code",
      "source": [
        "D2V = gensim.models.doc2vec.Doc2Vec(dm=0, \n",
        "                                    vector_size=300,\n",
        "                                    window=25,\n",
        "                                    min_count=3,\n",
        "                                    workers=7,\n",
        "                                    dm_concat=1,\n",
        "                                    callbacks=[callback()]) "
      ],
      "metadata": {
        "id": "nF-KkrYgnnBz"
      },
      "execution_count": 125,
      "outputs": []
    },
    {
      "cell_type": "code",
      "source": [
        "D2V.build_vocab(data['tagged_docs'])"
      ],
      "metadata": {
        "id": "RHhEAcgbSUWH"
      },
      "execution_count": 126,
      "outputs": []
    },
    {
      "cell_type": "code",
      "source": [
        "D2V.train(data['tagged_docs'], total_examples=D2V.corpus_count, epochs=20)"
      ],
      "metadata": {
        "id": "8Zsj1VbiQ7sd"
      },
      "execution_count": 127,
      "outputs": []
    },
    {
      "cell_type": "code",
      "source": [
        "D2V.save('first_model')"
      ],
      "metadata": {
        "id": "VgzAlpRVtckV"
      },
      "execution_count": 128,
      "outputs": []
    },
    {
      "cell_type": "code",
      "source": [
        "# access matrix representation of the 473th article\n",
        "D2V.dv.most_similar('473')"
      ],
      "metadata": {
        "colab": {
          "base_uri": "https://localhost:8080/"
        },
        "id": "OOxTJ2WE6ee3",
        "outputId": "d198b9bd-2e8a-430d-c591-5d13e922a382"
      },
      "execution_count": 131,
      "outputs": [
        {
          "output_type": "execute_result",
          "data": {
            "text/plain": [
              "[('469', 0.48613911867141724),\n",
              " ('470', 0.4689609706401825),\n",
              " ('合作', 0.3286418318748474),\n",
              " ('186', 0.3233388066291809),\n",
              " ('发展', 0.32194289565086365),\n",
              " ('地缘', 0.3200075030326843),\n",
              " ('472', 0.30889278650283813),\n",
              " ('461', 0.3072218596935272),\n",
              " ('国际', 0.3057571053504944),\n",
              " ('美国', 0.299747496843338)]"
            ]
          },
          "metadata": {},
          "execution_count": 131
        }
      ]
    },
    {
      "cell_type": "code",
      "source": [
        "data['title'][473]"
      ],
      "metadata": {
        "colab": {
          "base_uri": "https://localhost:8080/",
          "height": 36
        },
        "id": "CneIXFM-c2IZ",
        "outputId": "0573b657-7afd-431b-89aa-fa8d71e11c17"
      },
      "execution_count": 133,
      "outputs": [
        {
          "output_type": "execute_result",
          "data": {
            "text/plain": [
              "'中日关系下滑态势将加剧'"
            ],
            "application/vnd.google.colaboratory.intrinsic+json": {
              "type": "string"
            }
          },
          "metadata": {},
          "execution_count": 133
        }
      ]
    },
    {
      "cell_type": "code",
      "source": [
        "data['title'][469]"
      ],
      "metadata": {
        "colab": {
          "base_uri": "https://localhost:8080/",
          "height": 36
        },
        "id": "kqeQ7BUEdC5R",
        "outputId": "81bc13c0-3e41-4a01-e433-7091080a9be9"
      },
      "execution_count": 134,
      "outputs": [
        {
          "output_type": "execute_result",
          "data": {
            "text/plain": [
              "'世纪以来日本国家战略的演进及对中日关系的影响'"
            ],
            "application/vnd.google.colaboratory.intrinsic+json": {
              "type": "string"
            }
          },
          "metadata": {},
          "execution_count": 134
        }
      ]
    },
    {
      "cell_type": "code",
      "source": [
        "D2V.dv.most_similar(negative='473')"
      ],
      "metadata": {
        "colab": {
          "base_uri": "https://localhost:8080/"
        },
        "id": "9WcS_DxLdP42",
        "outputId": "4804c772-a67e-408d-875d-fc0164590f74"
      },
      "execution_count": 135,
      "outputs": [
        {
          "output_type": "execute_result",
          "data": {
            "text/plain": [
              "[('263', 0.09038188308477402),\n",
              " ('117', 0.08159788697957993),\n",
              " ('360', 0.07424749433994293),\n",
              " ('119', 0.07355380058288574),\n",
              " ('10', 0.0679699033498764),\n",
              " ('373', 0.06551533192396164),\n",
              " ('168', 0.06343725323677063),\n",
              " ('354', 0.06291715055704117),\n",
              " ('278', 0.06080149859189987),\n",
              " ('362', 0.06075608730316162)]"
            ]
          },
          "metadata": {},
          "execution_count": 135
        }
      ]
    },
    {
      "cell_type": "code",
      "source": [
        "data['title'][263]"
      ],
      "metadata": {
        "colab": {
          "base_uri": "https://localhost:8080/",
          "height": 36
        },
        "id": "Ad6Qt6WEdT9z",
        "outputId": "d585fb09-b95d-4d96-8fa9-9a8faf6b1e43"
      },
      "execution_count": 137,
      "outputs": [
        {
          "output_type": "execute_result",
          "data": {
            "text/plain": [
              "'智勇思想在和谐中日关系中的价值'"
            ],
            "application/vnd.google.colaboratory.intrinsic+json": {
              "type": "string"
            }
          },
          "metadata": {},
          "execution_count": 137
        }
      ]
    },
    {
      "cell_type": "code",
      "source": [
        ""
      ],
      "metadata": {
        "id": "q90HTXspdfTj"
      },
      "execution_count": null,
      "outputs": []
    },
    {
      "cell_type": "code",
      "source": [
        "# what words are in vocabulary?\n",
        "D2V.wv.index_to_key"
      ],
      "metadata": {
        "id": "5aBSKelo9y6p"
      },
      "execution_count": null,
      "outputs": []
    },
    {
      "cell_type": "code",
      "source": [
        "D2V['中日']"
      ],
      "metadata": {
        "id": "l0JBmZ2V7UYN"
      },
      "execution_count": null,
      "outputs": []
    },
    {
      "cell_type": "code",
      "source": [
        ""
      ],
      "metadata": {
        "id": "4NiulI7S-j0y"
      },
      "execution_count": null,
      "outputs": []
    }
  ]
}