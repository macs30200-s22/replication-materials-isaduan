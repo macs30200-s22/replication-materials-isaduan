{
 "cells": [
  {
   "cell_type": "markdown",
   "metadata": {
    "id": "mGL0wyimS6zm"
   },
   "source": [
    "# Measuring Cohesiveness of Nationalism Using Doc2Vec "
   ]
  },
  {
   "cell_type": "code",
   "execution_count": null,
   "metadata": {
    "id": "DsbA-hLZxKAw"
   },
   "outputs": [],
   "source": [
    "import analyze"
   ]
  },
  {
   "cell_type": "code",
   "execution_count": null,
   "metadata": {
    "id": "v1ZBMfiwjjAT"
   },
   "outputs": [],
   "source": [
    "data = analyze.prepare_d2v_documents('text_data.csv', 'stopwords-zh.txt')"
   ]
  },
  {
   "cell_type": "code",
   "execution_count": null,
   "metadata": {
    "colab": {
     "base_uri": "https://localhost:8080/",
     "height": 913
    },
    "id": "XN-oQ_82kkzq",
    "outputId": "4e804ab5-d74a-42c8-eea7-fcdeb8506587"
   },
   "outputs": [
    {
     "data": {
      "text/html": [
       "\n",
       "  <div id=\"df-b63e6fef-f21c-45c4-bff6-e41594739965\">\n",
       "    <div class=\"colab-df-container\">\n",
       "      <div>\n",
       "<style scoped>\n",
       "    .dataframe tbody tr th:only-of-type {\n",
       "        vertical-align: middle;\n",
       "    }\n",
       "\n",
       "    .dataframe tbody tr th {\n",
       "        vertical-align: top;\n",
       "    }\n",
       "\n",
       "    .dataframe thead th {\n",
       "        text-align: right;\n",
       "    }\n",
       "</style>\n",
       "<table border=\"1\" class=\"dataframe\">\n",
       "  <thead>\n",
       "    <tr style=\"text-align: right;\">\n",
       "      <th></th>\n",
       "      <th>title</th>\n",
       "      <th>author</th>\n",
       "      <th>filepath</th>\n",
       "      <th>year</th>\n",
       "      <th>raw_text</th>\n",
       "      <th>normalized_text</th>\n",
       "      <th>tokenized_text</th>\n",
       "      <th>length</th>\n",
       "      <th>tagged_docs</th>\n",
       "    </tr>\n",
       "  </thead>\n",
       "  <tbody>\n",
       "    <tr>\n",
       "      <th>0</th>\n",
       "      <td>发展稳定务实的中日关系</td>\n",
       "      <td>冯昭奎</td>\n",
       "      <td>/root/2000/发展稳定务实的中日关系_冯昭奎.pdf</td>\n",
       "      <td>2000</td>\n",
       "      <td>\\n\\n\\n\\n\\n\\n\\n\\n\\n\\n\\n\\n\\n\\n\\n\\n\\n\\n\\n\\n\\n\\n\\n...</td>\n",
       "      <td>时评两国在能源环境交通等基础设施方面的合作在固定通信移动通信智能交通系统等信息社会的基础设施...</td>\n",
       "      <td>[时评, 两国, 能源, 环境, 交通, 基础设施, 方面, 合作, 固定, 通信, 移动,...</td>\n",
       "      <td>907</td>\n",
       "      <td>([时评, 两国, 能源, 环境, 交通, 基础设施, 方面, 合作, 固定, 通信, 移动...</td>\n",
       "    </tr>\n",
       "    <tr>\n",
       "      <th>1</th>\n",
       "      <td>采访朱总理访日的几点感受</td>\n",
       "      <td>王亚娟</td>\n",
       "      <td>/root/2000/坦城相待,有所作为——采访朱总理访日的几点感受_王亚娟.pdf</td>\n",
       "      <td>2000</td>\n",
       "      <td>\\n\\n\\n\\n\\n\\n\\n\\n\\n\\n\\n\\n\\n\\n\\n\\n\\n\\n\\n\\n\\n\\n\\n...</td>\n",
       "      <td>国际政治杀落塞澎理刀日一分日对日本进行了正式访问才刊记者有幸履行果访舀多汾乍为一才国际尹鼠题...</td>\n",
       "      <td>[国际, 政治, 杀, 落塞澎理, 刀, 一分, 日本, 进行, 正式, 访问, 才刊, 记...</td>\n",
       "      <td>1632</td>\n",
       "      <td>([国际, 政治, 杀, 落塞澎理, 刀, 一分, 日本, 进行, 正式, 访问, 才刊, ...</td>\n",
       "    </tr>\n",
       "    <tr>\n",
       "      <th>2</th>\n",
       "      <td>国际学术讨论会上的交锋</td>\n",
       "      <td>韩铁英</td>\n",
       "      <td>/root/2000/相逢一笑后的严峻思考——“...系”国际学术讨论会上的交锋_韩铁英.pdf</td>\n",
       "      <td>2000</td>\n",
       "      <td>\\n\\n\\n\\n\\n\\n\\n\\n\\n\\n\\n\\n\\n\\n\\n\\n\\n\\n\\n\\n\\n\\n\\n...</td>\n",
       "      <td>国际政治中日关系一直是人们关注的话题世界知识今年以来组织的关于中日关系问题的讨论引起了读者的...</td>\n",
       "      <td>[国际, 政治, 中日关系, 一直, 关注, 话题, 世界, 知识, 今年以来, 组织, 中...</td>\n",
       "      <td>3079</td>\n",
       "      <td>([国际, 政治, 中日关系, 一直, 关注, 话题, 世界, 知识, 今年以来, 组织, ...</td>\n",
       "    </tr>\n",
       "    <tr>\n",
       "      <th>3</th>\n",
       "      <td>邓小平对日外交思想与中日关系的现实</td>\n",
       "      <td>冯昭奎</td>\n",
       "      <td>/root/2000/邓小平对日外交思想与中日关系的现实_冯昭奎.pdf</td>\n",
       "      <td>2000</td>\n",
       "      <td>\\n\\n\\n\\n\\n\\n\\n\\n\\n\\n\\n\\n\\n\\n\\n\\n\\n\\n\\n\\n\\n\\n\\n...</td>\n",
       "      <td>邓小平对日外交思想与中日关系的现实冯昭奎内容提要邓小平对日外交思想具有友好外交国民外交经济外...</td>\n",
       "      <td>[邓小平, 外交, 思想, 中日关系, 现实, 冯昭奎, 内容提要, 邓小平, 外交, 思想...</td>\n",
       "      <td>5707</td>\n",
       "      <td>([邓小平, 外交, 思想, 中日关系, 现实, 冯昭奎, 内容提要, 邓小平, 外交, 思...</td>\n",
       "    </tr>\n",
       "    <tr>\n",
       "      <th>4</th>\n",
       "      <td>通过中华总商会网络论日本大正时期的阪神华侨与中日关系</td>\n",
       "      <td>陈来幸</td>\n",
       "      <td>/root/2000/通过中华总商会网络论日本大正时期的阪神华侨与中日关系_陈来幸.pdf</td>\n",
       "      <td>2000</td>\n",
       "      <td>\\n\\n\\n\\n\\n\\n\\n\\n\\n\\n\\n\\n\\n\\n\\n\\n\\n\\n\\n\\n\\n\\n\\n...</td>\n",
       "      <td>史海探源通过中华总商会网络论日本大正时期的阪神华侨与中日关系陈来幸一推向海外的商会网络一分布...</td>\n",
       "      <td>[史海, 探源, 中华, 总商会, 网络, 日本, 正, 时期, 阪神, 华侨, 中日关系,...</td>\n",
       "      <td>6495</td>\n",
       "      <td>([史海, 探源, 中华, 总商会, 网络, 日本, 正, 时期, 阪神, 华侨, 中日关系...</td>\n",
       "    </tr>\n",
       "  </tbody>\n",
       "</table>\n",
       "</div>\n",
       "      <button class=\"colab-df-convert\" onclick=\"convertToInteractive('df-b63e6fef-f21c-45c4-bff6-e41594739965')\"\n",
       "              title=\"Convert this dataframe to an interactive table.\"\n",
       "              style=\"display:none;\">\n",
       "        \n",
       "  <svg xmlns=\"http://www.w3.org/2000/svg\" height=\"24px\"viewBox=\"0 0 24 24\"\n",
       "       width=\"24px\">\n",
       "    <path d=\"M0 0h24v24H0V0z\" fill=\"none\"/>\n",
       "    <path d=\"M18.56 5.44l.94 2.06.94-2.06 2.06-.94-2.06-.94-.94-2.06-.94 2.06-2.06.94zm-11 1L8.5 8.5l.94-2.06 2.06-.94-2.06-.94L8.5 2.5l-.94 2.06-2.06.94zm10 10l.94 2.06.94-2.06 2.06-.94-2.06-.94-.94-2.06-.94 2.06-2.06.94z\"/><path d=\"M17.41 7.96l-1.37-1.37c-.4-.4-.92-.59-1.43-.59-.52 0-1.04.2-1.43.59L10.3 9.45l-7.72 7.72c-.78.78-.78 2.05 0 2.83L4 21.41c.39.39.9.59 1.41.59.51 0 1.02-.2 1.41-.59l7.78-7.78 2.81-2.81c.8-.78.8-2.07 0-2.86zM5.41 20L4 18.59l7.72-7.72 1.47 1.35L5.41 20z\"/>\n",
       "  </svg>\n",
       "      </button>\n",
       "      \n",
       "  <style>\n",
       "    .colab-df-container {\n",
       "      display:flex;\n",
       "      flex-wrap:wrap;\n",
       "      gap: 12px;\n",
       "    }\n",
       "\n",
       "    .colab-df-convert {\n",
       "      background-color: #E8F0FE;\n",
       "      border: none;\n",
       "      border-radius: 50%;\n",
       "      cursor: pointer;\n",
       "      display: none;\n",
       "      fill: #1967D2;\n",
       "      height: 32px;\n",
       "      padding: 0 0 0 0;\n",
       "      width: 32px;\n",
       "    }\n",
       "\n",
       "    .colab-df-convert:hover {\n",
       "      background-color: #E2EBFA;\n",
       "      box-shadow: 0px 1px 2px rgba(60, 64, 67, 0.3), 0px 1px 3px 1px rgba(60, 64, 67, 0.15);\n",
       "      fill: #174EA6;\n",
       "    }\n",
       "\n",
       "    [theme=dark] .colab-df-convert {\n",
       "      background-color: #3B4455;\n",
       "      fill: #D2E3FC;\n",
       "    }\n",
       "\n",
       "    [theme=dark] .colab-df-convert:hover {\n",
       "      background-color: #434B5C;\n",
       "      box-shadow: 0px 1px 3px 1px rgba(0, 0, 0, 0.15);\n",
       "      filter: drop-shadow(0px 1px 2px rgba(0, 0, 0, 0.3));\n",
       "      fill: #FFFFFF;\n",
       "    }\n",
       "  </style>\n",
       "\n",
       "      <script>\n",
       "        const buttonEl =\n",
       "          document.querySelector('#df-b63e6fef-f21c-45c4-bff6-e41594739965 button.colab-df-convert');\n",
       "        buttonEl.style.display =\n",
       "          google.colab.kernel.accessAllowed ? 'block' : 'none';\n",
       "\n",
       "        async function convertToInteractive(key) {\n",
       "          const element = document.querySelector('#df-b63e6fef-f21c-45c4-bff6-e41594739965');\n",
       "          const dataTable =\n",
       "            await google.colab.kernel.invokeFunction('convertToInteractive',\n",
       "                                                     [key], {});\n",
       "          if (!dataTable) return;\n",
       "\n",
       "          const docLinkHtml = 'Like what you see? Visit the ' +\n",
       "            '<a target=\"_blank\" href=https://colab.research.google.com/notebooks/data_table.ipynb>data table notebook</a>'\n",
       "            + ' to learn more about interactive tables.';\n",
       "          element.innerHTML = '';\n",
       "          dataTable['output_type'] = 'display_data';\n",
       "          await google.colab.output.renderOutput(dataTable, element);\n",
       "          const docLink = document.createElement('div');\n",
       "          docLink.innerHTML = docLinkHtml;\n",
       "          element.appendChild(docLink);\n",
       "        }\n",
       "      </script>\n",
       "    </div>\n",
       "  </div>\n",
       "  "
      ],
      "text/plain": [
       "                        title author  \\\n",
       "0                 发展稳定务实的中日关系    冯昭奎   \n",
       "1                采访朱总理访日的几点感受    王亚娟   \n",
       "2                 国际学术讨论会上的交锋    韩铁英   \n",
       "3           邓小平对日外交思想与中日关系的现实    冯昭奎   \n",
       "4  通过中华总商会网络论日本大正时期的阪神华侨与中日关系    陈来幸   \n",
       "\n",
       "                                           filepath  year  \\\n",
       "0                    /root/2000/发展稳定务实的中日关系_冯昭奎.pdf  2000   \n",
       "1        /root/2000/坦城相待,有所作为——采访朱总理访日的几点感受_王亚娟.pdf  2000   \n",
       "2  /root/2000/相逢一笑后的严峻思考——“...系”国际学术讨论会上的交锋_韩铁英.pdf  2000   \n",
       "3              /root/2000/邓小平对日外交思想与中日关系的现实_冯昭奎.pdf  2000   \n",
       "4     /root/2000/通过中华总商会网络论日本大正时期的阪神华侨与中日关系_陈来幸.pdf  2000   \n",
       "\n",
       "                                            raw_text  \\\n",
       "0  \\n\\n\\n\\n\\n\\n\\n\\n\\n\\n\\n\\n\\n\\n\\n\\n\\n\\n\\n\\n\\n\\n\\n...   \n",
       "1  \\n\\n\\n\\n\\n\\n\\n\\n\\n\\n\\n\\n\\n\\n\\n\\n\\n\\n\\n\\n\\n\\n\\n...   \n",
       "2  \\n\\n\\n\\n\\n\\n\\n\\n\\n\\n\\n\\n\\n\\n\\n\\n\\n\\n\\n\\n\\n\\n\\n...   \n",
       "3  \\n\\n\\n\\n\\n\\n\\n\\n\\n\\n\\n\\n\\n\\n\\n\\n\\n\\n\\n\\n\\n\\n\\n...   \n",
       "4  \\n\\n\\n\\n\\n\\n\\n\\n\\n\\n\\n\\n\\n\\n\\n\\n\\n\\n\\n\\n\\n\\n\\n...   \n",
       "\n",
       "                                     normalized_text  \\\n",
       "0  时评两国在能源环境交通等基础设施方面的合作在固定通信移动通信智能交通系统等信息社会的基础设施...   \n",
       "1  国际政治杀落塞澎理刀日一分日对日本进行了正式访问才刊记者有幸履行果访舀多汾乍为一才国际尹鼠题...   \n",
       "2  国际政治中日关系一直是人们关注的话题世界知识今年以来组织的关于中日关系问题的讨论引起了读者的...   \n",
       "3  邓小平对日外交思想与中日关系的现实冯昭奎内容提要邓小平对日外交思想具有友好外交国民外交经济外...   \n",
       "4  史海探源通过中华总商会网络论日本大正时期的阪神华侨与中日关系陈来幸一推向海外的商会网络一分布...   \n",
       "\n",
       "                                      tokenized_text  length  \\\n",
       "0  [时评, 两国, 能源, 环境, 交通, 基础设施, 方面, 合作, 固定, 通信, 移动,...     907   \n",
       "1  [国际, 政治, 杀, 落塞澎理, 刀, 一分, 日本, 进行, 正式, 访问, 才刊, 记...    1632   \n",
       "2  [国际, 政治, 中日关系, 一直, 关注, 话题, 世界, 知识, 今年以来, 组织, 中...    3079   \n",
       "3  [邓小平, 外交, 思想, 中日关系, 现实, 冯昭奎, 内容提要, 邓小平, 外交, 思想...    5707   \n",
       "4  [史海, 探源, 中华, 总商会, 网络, 日本, 正, 时期, 阪神, 华侨, 中日关系,...    6495   \n",
       "\n",
       "                                         tagged_docs  \n",
       "0  ([时评, 两国, 能源, 环境, 交通, 基础设施, 方面, 合作, 固定, 通信, 移动...  \n",
       "1  ([国际, 政治, 杀, 落塞澎理, 刀, 一分, 日本, 进行, 正式, 访问, 才刊, ...  \n",
       "2  ([国际, 政治, 中日关系, 一直, 关注, 话题, 世界, 知识, 今年以来, 组织, ...  \n",
       "3  ([邓小平, 外交, 思想, 中日关系, 现实, 冯昭奎, 内容提要, 邓小平, 外交, 思...  \n",
       "4  ([史海, 探源, 中华, 总商会, 网络, 日本, 正, 时期, 阪神, 华侨, 中日关系...  "
      ]
     },
     "execution_count": 190,
     "metadata": {},
     "output_type": "execute_result"
    }
   ],
   "source": [
    "data.head()"
   ]
  },
  {
   "cell_type": "markdown",
   "metadata": {
    "id": "CROSvcKZtxVa"
   },
   "source": [
    "I manually annotated the similarity score of 19 pairs of excerpts of articles in a binary manner: texts that talk about China-Japan relations in a similar way are coded as 1, texts that talk about the subject in a dissimilar way are coded as 0. For example, pair excerpt 234 and excerpt 243 are coded as 1 because they all speak of the ice-breaking of China-Japan following Chinese President Hu's visit to Japanm whereas excerpt 49 and excerpt 243 are coded as 0 because excerpt 49 focus on China-Japan territorial dispute regarding Diaoyu Island. These annotations are used as validation data to tune hyper-paratmers of the Doc2Vec model."
   ]
  },
  {
   "cell_type": "code",
   "execution_count": null,
   "metadata": {
    "id": "b4tOBdSrldnF"
   },
   "outputs": [],
   "source": [
    "validation = analyze.get_d2v_validation('annotation.csv')"
   ]
  },
  {
   "cell_type": "code",
   "execution_count": null,
   "metadata": {
    "colab": {
     "base_uri": "https://localhost:8080/",
     "height": 1000
    },
    "id": "5rIT3vx3lqwF",
    "outputId": "740b733d-d98e-4279-9da8-59d95e5adb74"
   },
   "outputs": [
    {
     "data": {
      "text/html": [
       "\n",
       "  <div id=\"df-7289fc53-90c1-4db3-b2b1-788cb49acbe4\">\n",
       "    <div class=\"colab-df-container\">\n",
       "      <div>\n",
       "<style scoped>\n",
       "    .dataframe tbody tr th:only-of-type {\n",
       "        vertical-align: middle;\n",
       "    }\n",
       "\n",
       "    .dataframe tbody tr th {\n",
       "        vertical-align: top;\n",
       "    }\n",
       "\n",
       "    .dataframe thead th {\n",
       "        text-align: right;\n",
       "    }\n",
       "</style>\n",
       "<table border=\"1\" class=\"dataframe\">\n",
       "  <thead>\n",
       "    <tr style=\"text-align: right;\">\n",
       "      <th></th>\n",
       "      <th>index1</th>\n",
       "      <th>index2</th>\n",
       "      <th>similiarity_score</th>\n",
       "      <th>text1</th>\n",
       "      <th>text2</th>\n",
       "      <th>tokenized_text1</th>\n",
       "      <th>tokenized_text2</th>\n",
       "    </tr>\n",
       "  </thead>\n",
       "  <tbody>\n",
       "    <tr>\n",
       "      <th>0</th>\n",
       "      <td>234</td>\n",
       "      <td>243</td>\n",
       "      <td>1</td>\n",
       "      <td>'中日关系暖春时节的形势与任务杨伯江内容提要年月胡锦涛主席访日取得重大成果中日双方为新时期...</td>\n",
       "      <td>'中国党政干部论坛年第期中日关系破冰融冰到新的转机文金熙德年中日关系在融冰中继续回暖并迎来...</td>\n",
       "      <td>[中日关系, 暖春, 时节, 形势, 任务, 杨伯江, 内容提要, 胡锦涛, 主席, 访日,...</td>\n",
       "      <td>[中国, 党政干部, 论坛, 第期, 中日关系, 破冰, 融冰, 新, 转机, 文, 金熙,...</td>\n",
       "    </tr>\n",
       "    <tr>\n",
       "      <th>1</th>\n",
       "      <td>49</td>\n",
       "      <td>243</td>\n",
       "      <td>0</td>\n",
       "      <td>'琉球与钓鱼岛问题的缘起与现状可以说是历史与现实的中日关系中所有矛盾冲突的起始和延续的缩影...</td>\n",
       "      <td>'中国党政干部论坛年第期中日关系破冰融冰到新的转机文金熙德年中日关系在融冰中继续回暖并迎来...</td>\n",
       "      <td>[琉球, 钓鱼岛, 问题, 缘起, 现状, 历史, 现实, 中日关系, 矛盾, 冲突, 起始...</td>\n",
       "      <td>[中国, 党政干部, 论坛, 第期, 中日关系, 破冰, 融冰, 新, 转机, 文, 金熙,...</td>\n",
       "    </tr>\n",
       "    <tr>\n",
       "      <th>2</th>\n",
       "      <td>49</td>\n",
       "      <td>234</td>\n",
       "      <td>0</td>\n",
       "      <td>'琉球与钓鱼岛问题的缘起与现状可以说是历史与现实的中日关系中所有矛盾冲突的起始和延续的缩影...</td>\n",
       "      <td>'中日关系暖春时节的形势与任务杨伯江内容提要年月胡锦涛主席访日取得重大成果中日双方为新时期...</td>\n",
       "      <td>[琉球, 钓鱼岛, 问题, 缘起, 现状, 历史, 现实, 中日关系, 矛盾, 冲突, 起始...</td>\n",
       "      <td>[中日关系, 暖春, 时节, 形势, 任务, 杨伯江, 内容提要, 胡锦涛, 主席, 访日,...</td>\n",
       "    </tr>\n",
       "    <tr>\n",
       "      <th>3</th>\n",
       "      <td>49</td>\n",
       "      <td>355</td>\n",
       "      <td>1</td>\n",
       "      <td>'琉球与钓鱼岛问题的缘起与现状可以说是历史与现实的中日关系中所有矛盾冲突的起始和延续的缩影...</td>\n",
       "      <td>'钓鱼岛之争的历史脉络与中日关系刘江永摘要年中日邦交正常化以来中日关系整体是非对抗性的但两...</td>\n",
       "      <td>[琉球, 钓鱼岛, 问题, 缘起, 现状, 历史, 现实, 中日关系, 矛盾, 冲突, 起始...</td>\n",
       "      <td>[钓鱼岛, 之争, 历史, 脉络, 中日关系, 刘, 江永, 摘要, 中日, 邦交, 正常化...</td>\n",
       "    </tr>\n",
       "    <tr>\n",
       "      <th>4</th>\n",
       "      <td>355</td>\n",
       "      <td>234</td>\n",
       "      <td>0</td>\n",
       "      <td>'钓鱼岛之争的历史脉络与中日关系刘江永摘要年中日邦交正常化以来中日关系整体是非对抗性的但两...</td>\n",
       "      <td>'中日关系暖春时节的形势与任务杨伯江内容提要年月胡锦涛主席访日取得重大成果中日双方为新时期...</td>\n",
       "      <td>[钓鱼岛, 之争, 历史, 脉络, 中日关系, 刘, 江永, 摘要, 中日, 邦交, 正常化...</td>\n",
       "      <td>[中日关系, 暖春, 时节, 形势, 任务, 杨伯江, 内容提要, 胡锦涛, 主席, 访日,...</td>\n",
       "    </tr>\n",
       "  </tbody>\n",
       "</table>\n",
       "</div>\n",
       "      <button class=\"colab-df-convert\" onclick=\"convertToInteractive('df-7289fc53-90c1-4db3-b2b1-788cb49acbe4')\"\n",
       "              title=\"Convert this dataframe to an interactive table.\"\n",
       "              style=\"display:none;\">\n",
       "        \n",
       "  <svg xmlns=\"http://www.w3.org/2000/svg\" height=\"24px\"viewBox=\"0 0 24 24\"\n",
       "       width=\"24px\">\n",
       "    <path d=\"M0 0h24v24H0V0z\" fill=\"none\"/>\n",
       "    <path d=\"M18.56 5.44l.94 2.06.94-2.06 2.06-.94-2.06-.94-.94-2.06-.94 2.06-2.06.94zm-11 1L8.5 8.5l.94-2.06 2.06-.94-2.06-.94L8.5 2.5l-.94 2.06-2.06.94zm10 10l.94 2.06.94-2.06 2.06-.94-2.06-.94-.94-2.06-.94 2.06-2.06.94z\"/><path d=\"M17.41 7.96l-1.37-1.37c-.4-.4-.92-.59-1.43-.59-.52 0-1.04.2-1.43.59L10.3 9.45l-7.72 7.72c-.78.78-.78 2.05 0 2.83L4 21.41c.39.39.9.59 1.41.59.51 0 1.02-.2 1.41-.59l7.78-7.78 2.81-2.81c.8-.78.8-2.07 0-2.86zM5.41 20L4 18.59l7.72-7.72 1.47 1.35L5.41 20z\"/>\n",
       "  </svg>\n",
       "      </button>\n",
       "      \n",
       "  <style>\n",
       "    .colab-df-container {\n",
       "      display:flex;\n",
       "      flex-wrap:wrap;\n",
       "      gap: 12px;\n",
       "    }\n",
       "\n",
       "    .colab-df-convert {\n",
       "      background-color: #E8F0FE;\n",
       "      border: none;\n",
       "      border-radius: 50%;\n",
       "      cursor: pointer;\n",
       "      display: none;\n",
       "      fill: #1967D2;\n",
       "      height: 32px;\n",
       "      padding: 0 0 0 0;\n",
       "      width: 32px;\n",
       "    }\n",
       "\n",
       "    .colab-df-convert:hover {\n",
       "      background-color: #E2EBFA;\n",
       "      box-shadow: 0px 1px 2px rgba(60, 64, 67, 0.3), 0px 1px 3px 1px rgba(60, 64, 67, 0.15);\n",
       "      fill: #174EA6;\n",
       "    }\n",
       "\n",
       "    [theme=dark] .colab-df-convert {\n",
       "      background-color: #3B4455;\n",
       "      fill: #D2E3FC;\n",
       "    }\n",
       "\n",
       "    [theme=dark] .colab-df-convert:hover {\n",
       "      background-color: #434B5C;\n",
       "      box-shadow: 0px 1px 3px 1px rgba(0, 0, 0, 0.15);\n",
       "      filter: drop-shadow(0px 1px 2px rgba(0, 0, 0, 0.3));\n",
       "      fill: #FFFFFF;\n",
       "    }\n",
       "  </style>\n",
       "\n",
       "      <script>\n",
       "        const buttonEl =\n",
       "          document.querySelector('#df-7289fc53-90c1-4db3-b2b1-788cb49acbe4 button.colab-df-convert');\n",
       "        buttonEl.style.display =\n",
       "          google.colab.kernel.accessAllowed ? 'block' : 'none';\n",
       "\n",
       "        async function convertToInteractive(key) {\n",
       "          const element = document.querySelector('#df-7289fc53-90c1-4db3-b2b1-788cb49acbe4');\n",
       "          const dataTable =\n",
       "            await google.colab.kernel.invokeFunction('convertToInteractive',\n",
       "                                                     [key], {});\n",
       "          if (!dataTable) return;\n",
       "\n",
       "          const docLinkHtml = 'Like what you see? Visit the ' +\n",
       "            '<a target=\"_blank\" href=https://colab.research.google.com/notebooks/data_table.ipynb>data table notebook</a>'\n",
       "            + ' to learn more about interactive tables.';\n",
       "          element.innerHTML = '';\n",
       "          dataTable['output_type'] = 'display_data';\n",
       "          await google.colab.output.renderOutput(dataTable, element);\n",
       "          const docLink = document.createElement('div');\n",
       "          docLink.innerHTML = docLinkHtml;\n",
       "          element.appendChild(docLink);\n",
       "        }\n",
       "      </script>\n",
       "    </div>\n",
       "  </div>\n",
       "  "
      ],
      "text/plain": [
       "   index1  index2  similiarity_score  \\\n",
       "0     234     243                  1   \n",
       "1      49     243                  0   \n",
       "2      49     234                  0   \n",
       "3      49     355                  1   \n",
       "4     355     234                  0   \n",
       "\n",
       "                                               text1  \\\n",
       "0   '中日关系暖春时节的形势与任务杨伯江内容提要年月胡锦涛主席访日取得重大成果中日双方为新时期...   \n",
       "1   '琉球与钓鱼岛问题的缘起与现状可以说是历史与现实的中日关系中所有矛盾冲突的起始和延续的缩影...   \n",
       "2   '琉球与钓鱼岛问题的缘起与现状可以说是历史与现实的中日关系中所有矛盾冲突的起始和延续的缩影...   \n",
       "3   '琉球与钓鱼岛问题的缘起与现状可以说是历史与现实的中日关系中所有矛盾冲突的起始和延续的缩影...   \n",
       "4   '钓鱼岛之争的历史脉络与中日关系刘江永摘要年中日邦交正常化以来中日关系整体是非对抗性的但两...   \n",
       "\n",
       "                                               text2  \\\n",
       "0   '中国党政干部论坛年第期中日关系破冰融冰到新的转机文金熙德年中日关系在融冰中继续回暖并迎来...   \n",
       "1   '中国党政干部论坛年第期中日关系破冰融冰到新的转机文金熙德年中日关系在融冰中继续回暖并迎来...   \n",
       "2   '中日关系暖春时节的形势与任务杨伯江内容提要年月胡锦涛主席访日取得重大成果中日双方为新时期...   \n",
       "3   '钓鱼岛之争的历史脉络与中日关系刘江永摘要年中日邦交正常化以来中日关系整体是非对抗性的但两...   \n",
       "4   '中日关系暖春时节的形势与任务杨伯江内容提要年月胡锦涛主席访日取得重大成果中日双方为新时期...   \n",
       "\n",
       "                                     tokenized_text1  \\\n",
       "0  [中日关系, 暖春, 时节, 形势, 任务, 杨伯江, 内容提要, 胡锦涛, 主席, 访日,...   \n",
       "1  [琉球, 钓鱼岛, 问题, 缘起, 现状, 历史, 现实, 中日关系, 矛盾, 冲突, 起始...   \n",
       "2  [琉球, 钓鱼岛, 问题, 缘起, 现状, 历史, 现实, 中日关系, 矛盾, 冲突, 起始...   \n",
       "3  [琉球, 钓鱼岛, 问题, 缘起, 现状, 历史, 现实, 中日关系, 矛盾, 冲突, 起始...   \n",
       "4  [钓鱼岛, 之争, 历史, 脉络, 中日关系, 刘, 江永, 摘要, 中日, 邦交, 正常化...   \n",
       "\n",
       "                                     tokenized_text2  \n",
       "0  [中国, 党政干部, 论坛, 第期, 中日关系, 破冰, 融冰, 新, 转机, 文, 金熙,...  \n",
       "1  [中国, 党政干部, 论坛, 第期, 中日关系, 破冰, 融冰, 新, 转机, 文, 金熙,...  \n",
       "2  [中日关系, 暖春, 时节, 形势, 任务, 杨伯江, 内容提要, 胡锦涛, 主席, 访日,...  \n",
       "3  [钓鱼岛, 之争, 历史, 脉络, 中日关系, 刘, 江永, 摘要, 中日, 邦交, 正常化...  \n",
       "4  [中日关系, 暖春, 时节, 形势, 任务, 杨伯江, 内容提要, 胡锦涛, 主席, 访日,...  "
      ]
     },
     "execution_count": 194,
     "metadata": {},
     "output_type": "execute_result"
    }
   ],
   "source": [
    "validation.head()"
   ]
  },
  {
   "cell_type": "code",
   "execution_count": null,
   "metadata": {
    "colab": {
     "base_uri": "https://localhost:8080/"
    },
    "id": "Zxl6W93-1bfm",
    "outputId": "a4ba94d8-c475-4524-fb4c-d8a6345b6bb7"
   },
   "outputs": [
    {
     "name": "stderr",
     "output_type": "stream",
     "text": [
      "WARNING:gensim.models.doc2vec:More unique tags (508) than documents (472).\n",
      "WARNING:gensim.models.doc2vec:More unique tags (508) than documents (472).\n"
     ]
    }
   ],
   "source": [
    "# test dm\n",
    "results, preds = analyze.grid_search(data, 'dm', [0, 1], validation)"
   ]
  },
  {
   "cell_type": "code",
   "execution_count": null,
   "metadata": {
    "colab": {
     "base_uri": "https://localhost:8080/"
    },
    "id": "Gn_1yPKBecpp",
    "outputId": "aa9dfe4d-418b-4862-de80-9503b2f5cc6d"
   },
   "outputs": [
    {
     "data": {
      "text/plain": [
       "{0: 0.09289196009329155, 1: 0.30993501617676583}"
      ]
     },
     "execution_count": 163,
     "metadata": {},
     "output_type": "execute_result"
    }
   ],
   "source": [
    "results # dm=0 gives better performance"
   ]
  },
  {
   "cell_type": "code",
   "execution_count": null,
   "metadata": {
    "colab": {
     "base_uri": "https://localhost:8080/"
    },
    "id": "porY9_cvhtpV",
    "outputId": "96121cf3-0b48-46af-e568-799763147660"
   },
   "outputs": [
    {
     "name": "stderr",
     "output_type": "stream",
     "text": [
      "WARNING:gensim.models.doc2vec:More unique tags (508) than documents (472).\n",
      "WARNING:gensim.models.doc2vec:More unique tags (508) than documents (472).\n",
      "WARNING:gensim.models.doc2vec:More unique tags (508) than documents (472).\n"
     ]
    }
   ],
   "source": [
    "# test vector_size\n",
    "results, preds = analyze.grid_search(data, 'vector_size', [100, 200, 300], validation)"
   ]
  },
  {
   "cell_type": "code",
   "execution_count": null,
   "metadata": {
    "colab": {
     "base_uri": "https://localhost:8080/"
    },
    "id": "l4tLVK4uh2P1",
    "outputId": "dbd7bdad-61b7-4a01-bb6d-73c18dad3888"
   },
   "outputs": [
    {
     "data": {
      "text/plain": [
       "{100: 0.08266031281108013, 200: 0.09263973356243722, 300: 0.07772459199776763}"
      ]
     },
     "execution_count": 165,
     "metadata": {},
     "output_type": "execute_result"
    }
   ],
   "source": [
    "results # vector_size=300 gives slightly better performance"
   ]
  },
  {
   "cell_type": "code",
   "execution_count": null,
   "metadata": {
    "colab": {
     "base_uri": "https://localhost:8080/"
    },
    "id": "jvUjddWUh4Ly",
    "outputId": "4fc79093-ed7f-448f-ac5a-862644020d47"
   },
   "outputs": [
    {
     "name": "stderr",
     "output_type": "stream",
     "text": [
      "WARNING:gensim.models.doc2vec:More unique tags (508) than documents (472).\n",
      "WARNING:gensim.models.doc2vec:More unique tags (508) than documents (472).\n",
      "WARNING:gensim.models.doc2vec:More unique tags (508) than documents (472).\n"
     ]
    }
   ],
   "source": [
    "results, preds = analyze.grid_search(data, 'window', [5, 10, 12], validation)"
   ]
  },
  {
   "cell_type": "code",
   "execution_count": null,
   "metadata": {
    "colab": {
     "base_uri": "https://localhost:8080/"
    },
    "id": "XcuCagXKiLHr",
    "outputId": "ce7b7bfd-5a9f-40c5-b501-64dd99e45693"
   },
   "outputs": [
    {
     "data": {
      "text/plain": [
       "{5: 0.07411606200268682, 10: 0.06640271562133448, 12: 0.06375741733377323}"
      ]
     },
     "execution_count": 167,
     "metadata": {},
     "output_type": "execute_result"
    }
   ],
   "source": [
    "results # window=12 gives better performance"
   ]
  },
  {
   "cell_type": "code",
   "execution_count": null,
   "metadata": {
    "colab": {
     "base_uri": "https://localhost:8080/"
    },
    "id": "V5bPUDuAiU2C",
    "outputId": "36d88024-9783-4e21-a550-84987e2e1bc1"
   },
   "outputs": [
    {
     "name": "stderr",
     "output_type": "stream",
     "text": [
      "WARNING:gensim.models.doc2vec:More unique tags (508) than documents (472).\n",
      "WARNING:gensim.models.doc2vec:More unique tags (508) than documents (472).\n"
     ]
    }
   ],
   "source": [
    "results, preds = analyze.grid_search(data, 'dm_concat', [0, 1], validation)"
   ]
  },
  {
   "cell_type": "code",
   "execution_count": null,
   "metadata": {
    "colab": {
     "base_uri": "https://localhost:8080/"
    },
    "id": "Em-dtJ7wiePn",
    "outputId": "25ed868b-ab9b-4f7a-94a8-b276d375c085"
   },
   "outputs": [
    {
     "data": {
      "text/plain": [
       "{0: 0.07172977657358882, 1: 0.06335564235224517}"
      ]
     },
     "execution_count": 170,
     "metadata": {},
     "output_type": "execute_result"
    }
   ],
   "source": [
    "results # dm_concat=1 gives slightly better performance"
   ]
  },
  {
   "cell_type": "code",
   "execution_count": null,
   "metadata": {
    "colab": {
     "base_uri": "https://localhost:8080/"
    },
    "id": "QGsUCr6DicEO",
    "outputId": "be3b85a0-72be-4efe-9057-7771f69fa457"
   },
   "outputs": [
    {
     "name": "stderr",
     "output_type": "stream",
     "text": [
      "WARNING:gensim.models.doc2vec:More unique tags (508) than documents (472).\n",
      "WARNING:gensim.models.doc2vec:More unique tags (508) than documents (472).\n"
     ]
    }
   ],
   "source": [
    "results, preds = analyze.grid_search(data, 'dm_mean', [0, 1], validation)"
   ]
  },
  {
   "cell_type": "code",
   "execution_count": null,
   "metadata": {
    "colab": {
     "base_uri": "https://localhost:8080/"
    },
    "id": "fbL3P-FKVaAt",
    "outputId": "4a036660-a14d-4610-df2f-748a722a6083"
   },
   "outputs": [
    {
     "data": {
      "text/plain": [
       "{0: 0.058395498873306875, 1: 0.07637662330518684}"
      ]
     },
     "execution_count": 172,
     "metadata": {},
     "output_type": "execute_result"
    }
   ],
   "source": [
    "results # dm_mean=0 gives slightly better performance"
   ]
  },
  {
   "cell_type": "code",
   "execution_count": null,
   "metadata": {
    "colab": {
     "base_uri": "https://localhost:8080/"
    },
    "id": "65BD3LEDVg4y",
    "outputId": "cc0a1678-8c06-40d5-9274-25d6244dd8fa"
   },
   "outputs": [
    {
     "name": "stderr",
     "output_type": "stream",
     "text": [
      "WARNING:gensim.models.doc2vec:More unique tags (508) than documents (472).\n",
      "WARNING:gensim.models.doc2vec:More unique tags (508) than documents (472).\n",
      "WARNING:gensim.models.doc2vec:More unique tags (508) than documents (472).\n",
      "WARNING:gensim.models.doc2vec:More unique tags (508) than documents (472).\n"
     ]
    }
   ],
   "source": [
    "results, preds = analyze.grid_search(data, 'min_count', [0, 5, 8, 11], validation)"
   ]
  },
  {
   "cell_type": "code",
   "execution_count": null,
   "metadata": {
    "colab": {
     "base_uri": "https://localhost:8080/"
    },
    "id": "7Byp-YQFYzU9",
    "outputId": "af0a98e7-79e3-4ab6-a3e4-6df73f94c72c"
   },
   "outputs": [
    {
     "data": {
      "text/plain": [
       "{0: 0.0687847059659971,\n",
       " 5: 0.06815869628709277,\n",
       " 8: 0.07847975395156227,\n",
       " 11: 0.08404656368695226}"
      ]
     },
     "execution_count": 175,
     "metadata": {},
     "output_type": "execute_result"
    }
   ],
   "source": [
    "results # min_count=3 (in previous run) gives slightly better performance"
   ]
  },
  {
   "cell_type": "code",
   "execution_count": 10,
   "metadata": {
    "id": "FzeTdaAXuuX0"
   },
   "outputs": [],
   "source": [
    "D2V = analyze.train_best_d2v_model(data)"
   ]
  },
  {
   "cell_type": "code",
   "execution_count": 16,
   "metadata": {
    "colab": {
     "base_uri": "https://localhost:8080/",
     "height": 295
    },
    "id": "IJFMa8kEvAGg",
    "outputId": "810a5b82-0047-4b64-8264-e299395f9ab7"
   },
   "outputs": [
    {
     "data": {
      "image/png": "[encoded data removed]",
      "text/plain": [
       "<Figure size 432x288 with 1 Axes>"
      ]
     },
     "metadata": {
      "needs_background": "light"
     },
     "output_type": "display_data"
    }
   ],
   "source": [
    "similarities_lst = analyze.get_d2v_similarities(D2V, data)\n",
    "analyze.plot_d2v_similarities(similarities_lst, smooth=True)"
   ]
  },
  {
   "cell_type": "markdown",
   "metadata": {},
   "source": [
    "# Exploring Cultural Dimensions of Nationalism Using Word2Vec"
   ]
  },
  {
   "cell_type": "code",
   "execution_count": null,
   "metadata": {
    "id": "ZCiRrkOox0DY"
   },
   "outputs": [],
   "source": [
    "# run the following line to train all w2v models from the start\n",
    "analyze.train_w2v()"
   ]
  },
  {
   "cell_type": "code",
   "execution_count": 3,
   "metadata": {},
   "outputs": [],
   "source": [
    "projection = analyze.project_word('日本', 'neg.txt', 'pos.txt')"
   ]
  },
  {
   "cell_type": "code",
   "execution_count": 4,
   "metadata": {},
   "outputs": [
    {
     "data": {
      "image/png": "[encoded data removed]",
      "text/plain": [
       "<Figure size 432x288 with 1 Axes>"
      ]
     },
     "metadata": {
      "needs_background": "light"
     },
     "output_type": "display_data"
    }
   ],
   "source": [
    "analyze.plot_projection('Japan', projection)"
   ]
  }
 ],
 "metadata": {
  "colab": {
   "collapsed_sections": [],
   "name": "analyze.ipynb",
   "provenance": []
  },
  "kernelspec": {
   "display_name": "Python 3 (ipykernel)",
   "language": "python",
   "name": "python3"
  },
  "language_info": {
   "codemirror_mode": {
    "name": "ipython",
    "version": 3
   },
   "file_extension": ".py",
   "mimetype": "text/x-python",
   "name": "python",
   "nbconvert_exporter": "python",
   "pygments_lexer": "ipython3",
   "version": "3.8.12"
  }
 },
 "nbformat": 4,
 "nbformat_minor": 1
}
